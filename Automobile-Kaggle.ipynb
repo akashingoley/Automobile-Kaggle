{
 "cells": [
  {
   "cell_type": "code",
   "execution_count": 1,
   "id": "0e3f7ebf",
   "metadata": {
    "_cell_guid": "b1076dfc-b9ad-4769-8c92-a6c4dae69d19",
    "_uuid": "8f2839f25d086af736a60e9eeb907d3b93b6e0e5",
    "execution": {
     "iopub.execute_input": "2021-08-17T08:30:19.766596Z",
     "iopub.status.busy": "2021-08-17T08:30:19.762690Z",
     "iopub.status.idle": "2021-08-17T08:30:21.395601Z",
     "shell.execute_reply": "2021-08-17T08:30:21.394625Z",
     "shell.execute_reply.started": "2021-08-17T08:26:41.403078Z"
    },
    "papermill": {
     "duration": 1.707549,
     "end_time": "2021-08-17T08:30:21.395871",
     "exception": false,
     "start_time": "2021-08-17T08:30:19.688322",
     "status": "completed"
    },
    "tags": []
   },
   "outputs": [
    {
     "name": "stdout",
     "output_type": "stream",
     "text": [
      "/kaggle/input/automobile-dataset/Automobile_data.csv\n"
     ]
    }
   ],
   "source": [
    "# This Python 3 environment comes with many helpful analytics libraries installed\n",
    "# It is defined by the kaggle/python Docker image: https://github.com/kaggle/docker-python\n",
    "# For example, here's several helpful packages to load\n",
    "\n",
    "import numpy as np # linear algebra\n",
    "import pandas as pd # data processing, CSV file I/O (e.g. pd.read_csv)\n",
    "import matplotlib.pyplot as plt\n",
    "import seaborn as sns\n",
    "from sklearn.preprocessing import LabelEncoder\n",
    "from sklearn.linear_model import LinearRegression\n",
    "from sklearn.model_selection import train_test_split\n",
    "from sklearn.metrics import r2_score\n",
    "\n",
    "# Input data files are available in the read-only \"../input/\" directory\n",
    "# For example, running this (by clicking run or pressing Shift+Enter) will list all files under the input directory\n",
    "\n",
    "import os\n",
    "for dirname, _, filenames in os.walk('/kaggle/input'):\n",
    "    for filename in filenames:\n",
    "        print(os.path.join(dirname, filename))\n",
    "\n",
    "# You can write up to 20GB to the current directory (/kaggle/working/) that gets preserved as output when you create a version using \"Save & Run All\" \n",
    "# You can also write temporary files to /kaggle/temp/, but they won't be saved outside of the current session"
   ]
  },
  {
   "cell_type": "code",
   "execution_count": 2,
   "id": "dddd9b4a",
   "metadata": {
    "execution": {
     "iopub.execute_input": "2021-08-17T08:30:21.520190Z",
     "iopub.status.busy": "2021-08-17T08:30:21.519291Z",
     "iopub.status.idle": "2021-08-17T08:30:21.597458Z",
     "shell.execute_reply": "2021-08-17T08:30:21.596712Z",
     "shell.execute_reply.started": "2021-08-17T08:26:42.866891Z"
    },
    "papermill": {
     "duration": 0.143413,
     "end_time": "2021-08-17T08:30:21.597664",
     "exception": false,
     "start_time": "2021-08-17T08:30:21.454251",
     "status": "completed"
    },
    "tags": []
   },
   "outputs": [
    {
     "data": {
      "text/html": [
       "<div>\n",
       "<style scoped>\n",
       "    .dataframe tbody tr th:only-of-type {\n",
       "        vertical-align: middle;\n",
       "    }\n",
       "\n",
       "    .dataframe tbody tr th {\n",
       "        vertical-align: top;\n",
       "    }\n",
       "\n",
       "    .dataframe thead th {\n",
       "        text-align: right;\n",
       "    }\n",
       "</style>\n",
       "<table border=\"1\" class=\"dataframe\">\n",
       "  <thead>\n",
       "    <tr style=\"text-align: right;\">\n",
       "      <th></th>\n",
       "      <th>symboling</th>\n",
       "      <th>normalized-losses</th>\n",
       "      <th>make</th>\n",
       "      <th>fuel-type</th>\n",
       "      <th>aspiration</th>\n",
       "      <th>num-of-doors</th>\n",
       "      <th>body-style</th>\n",
       "      <th>drive-wheels</th>\n",
       "      <th>engine-location</th>\n",
       "      <th>wheel-base</th>\n",
       "      <th>...</th>\n",
       "      <th>engine-size</th>\n",
       "      <th>fuel-system</th>\n",
       "      <th>bore</th>\n",
       "      <th>stroke</th>\n",
       "      <th>compression-ratio</th>\n",
       "      <th>horsepower</th>\n",
       "      <th>peak-rpm</th>\n",
       "      <th>city-mpg</th>\n",
       "      <th>highway-mpg</th>\n",
       "      <th>price</th>\n",
       "    </tr>\n",
       "  </thead>\n",
       "  <tbody>\n",
       "    <tr>\n",
       "      <th>0</th>\n",
       "      <td>3</td>\n",
       "      <td>?</td>\n",
       "      <td>alfa-romero</td>\n",
       "      <td>gas</td>\n",
       "      <td>std</td>\n",
       "      <td>two</td>\n",
       "      <td>convertible</td>\n",
       "      <td>rwd</td>\n",
       "      <td>front</td>\n",
       "      <td>88.6</td>\n",
       "      <td>...</td>\n",
       "      <td>130</td>\n",
       "      <td>mpfi</td>\n",
       "      <td>3.47</td>\n",
       "      <td>2.68</td>\n",
       "      <td>9.0</td>\n",
       "      <td>111</td>\n",
       "      <td>5000</td>\n",
       "      <td>21</td>\n",
       "      <td>27</td>\n",
       "      <td>13495</td>\n",
       "    </tr>\n",
       "    <tr>\n",
       "      <th>1</th>\n",
       "      <td>3</td>\n",
       "      <td>?</td>\n",
       "      <td>alfa-romero</td>\n",
       "      <td>gas</td>\n",
       "      <td>std</td>\n",
       "      <td>two</td>\n",
       "      <td>convertible</td>\n",
       "      <td>rwd</td>\n",
       "      <td>front</td>\n",
       "      <td>88.6</td>\n",
       "      <td>...</td>\n",
       "      <td>130</td>\n",
       "      <td>mpfi</td>\n",
       "      <td>3.47</td>\n",
       "      <td>2.68</td>\n",
       "      <td>9.0</td>\n",
       "      <td>111</td>\n",
       "      <td>5000</td>\n",
       "      <td>21</td>\n",
       "      <td>27</td>\n",
       "      <td>16500</td>\n",
       "    </tr>\n",
       "    <tr>\n",
       "      <th>2</th>\n",
       "      <td>1</td>\n",
       "      <td>?</td>\n",
       "      <td>alfa-romero</td>\n",
       "      <td>gas</td>\n",
       "      <td>std</td>\n",
       "      <td>two</td>\n",
       "      <td>hatchback</td>\n",
       "      <td>rwd</td>\n",
       "      <td>front</td>\n",
       "      <td>94.5</td>\n",
       "      <td>...</td>\n",
       "      <td>152</td>\n",
       "      <td>mpfi</td>\n",
       "      <td>2.68</td>\n",
       "      <td>3.47</td>\n",
       "      <td>9.0</td>\n",
       "      <td>154</td>\n",
       "      <td>5000</td>\n",
       "      <td>19</td>\n",
       "      <td>26</td>\n",
       "      <td>16500</td>\n",
       "    </tr>\n",
       "    <tr>\n",
       "      <th>3</th>\n",
       "      <td>2</td>\n",
       "      <td>164</td>\n",
       "      <td>audi</td>\n",
       "      <td>gas</td>\n",
       "      <td>std</td>\n",
       "      <td>four</td>\n",
       "      <td>sedan</td>\n",
       "      <td>fwd</td>\n",
       "      <td>front</td>\n",
       "      <td>99.8</td>\n",
       "      <td>...</td>\n",
       "      <td>109</td>\n",
       "      <td>mpfi</td>\n",
       "      <td>3.19</td>\n",
       "      <td>3.4</td>\n",
       "      <td>10.0</td>\n",
       "      <td>102</td>\n",
       "      <td>5500</td>\n",
       "      <td>24</td>\n",
       "      <td>30</td>\n",
       "      <td>13950</td>\n",
       "    </tr>\n",
       "    <tr>\n",
       "      <th>4</th>\n",
       "      <td>2</td>\n",
       "      <td>164</td>\n",
       "      <td>audi</td>\n",
       "      <td>gas</td>\n",
       "      <td>std</td>\n",
       "      <td>four</td>\n",
       "      <td>sedan</td>\n",
       "      <td>4wd</td>\n",
       "      <td>front</td>\n",
       "      <td>99.4</td>\n",
       "      <td>...</td>\n",
       "      <td>136</td>\n",
       "      <td>mpfi</td>\n",
       "      <td>3.19</td>\n",
       "      <td>3.4</td>\n",
       "      <td>8.0</td>\n",
       "      <td>115</td>\n",
       "      <td>5500</td>\n",
       "      <td>18</td>\n",
       "      <td>22</td>\n",
       "      <td>17450</td>\n",
       "    </tr>\n",
       "  </tbody>\n",
       "</table>\n",
       "<p>5 rows × 26 columns</p>\n",
       "</div>"
      ],
      "text/plain": [
       "   symboling normalized-losses         make fuel-type aspiration num-of-doors  \\\n",
       "0          3                 ?  alfa-romero       gas        std          two   \n",
       "1          3                 ?  alfa-romero       gas        std          two   \n",
       "2          1                 ?  alfa-romero       gas        std          two   \n",
       "3          2               164         audi       gas        std         four   \n",
       "4          2               164         audi       gas        std         four   \n",
       "\n",
       "    body-style drive-wheels engine-location  wheel-base  ...  engine-size  \\\n",
       "0  convertible          rwd           front        88.6  ...          130   \n",
       "1  convertible          rwd           front        88.6  ...          130   \n",
       "2    hatchback          rwd           front        94.5  ...          152   \n",
       "3        sedan          fwd           front        99.8  ...          109   \n",
       "4        sedan          4wd           front        99.4  ...          136   \n",
       "\n",
       "   fuel-system  bore  stroke compression-ratio horsepower  peak-rpm city-mpg  \\\n",
       "0         mpfi  3.47    2.68               9.0        111      5000       21   \n",
       "1         mpfi  3.47    2.68               9.0        111      5000       21   \n",
       "2         mpfi  2.68    3.47               9.0        154      5000       19   \n",
       "3         mpfi  3.19     3.4              10.0        102      5500       24   \n",
       "4         mpfi  3.19     3.4               8.0        115      5500       18   \n",
       "\n",
       "  highway-mpg  price  \n",
       "0          27  13495  \n",
       "1          27  16500  \n",
       "2          26  16500  \n",
       "3          30  13950  \n",
       "4          22  17450  \n",
       "\n",
       "[5 rows x 26 columns]"
      ]
     },
     "execution_count": 2,
     "metadata": {},
     "output_type": "execute_result"
    }
   ],
   "source": [
    "data = pd.read_csv(\"/kaggle/input/automobile-dataset/Automobile_data.csv\")\n",
    "data.head()"
   ]
  },
  {
   "cell_type": "code",
   "execution_count": 3,
   "id": "6686f663",
   "metadata": {
    "execution": {
     "iopub.execute_input": "2021-08-17T08:30:21.725689Z",
     "iopub.status.busy": "2021-08-17T08:30:21.724548Z",
     "iopub.status.idle": "2021-08-17T08:30:21.728557Z",
     "shell.execute_reply": "2021-08-17T08:30:21.729197Z",
     "shell.execute_reply.started": "2021-08-17T08:26:42.937919Z"
    },
    "papermill": {
     "duration": 0.074698,
     "end_time": "2021-08-17T08:30:21.729427",
     "exception": false,
     "start_time": "2021-08-17T08:30:21.654729",
     "status": "completed"
    },
    "tags": []
   },
   "outputs": [
    {
     "data": {
      "text/plain": [
       "symboling            0\n",
       "normalized-losses    0\n",
       "make                 0\n",
       "fuel-type            0\n",
       "aspiration           0\n",
       "num-of-doors         0\n",
       "body-style           0\n",
       "drive-wheels         0\n",
       "engine-location      0\n",
       "wheel-base           0\n",
       "length               0\n",
       "width                0\n",
       "height               0\n",
       "curb-weight          0\n",
       "engine-type          0\n",
       "num-of-cylinders     0\n",
       "engine-size          0\n",
       "fuel-system          0\n",
       "bore                 0\n",
       "stroke               0\n",
       "compression-ratio    0\n",
       "horsepower           0\n",
       "peak-rpm             0\n",
       "city-mpg             0\n",
       "highway-mpg          0\n",
       "price                0\n",
       "dtype: int64"
      ]
     },
     "execution_count": 3,
     "metadata": {},
     "output_type": "execute_result"
    }
   ],
   "source": [
    "data.isnull().sum()"
   ]
  },
  {
   "cell_type": "code",
   "execution_count": 4,
   "id": "5f03b2b4",
   "metadata": {
    "execution": {
     "iopub.execute_input": "2021-08-17T08:30:21.846082Z",
     "iopub.status.busy": "2021-08-17T08:30:21.845115Z",
     "iopub.status.idle": "2021-08-17T08:30:21.849728Z",
     "shell.execute_reply": "2021-08-17T08:30:21.850312Z",
     "shell.execute_reply.started": "2021-08-17T08:26:42.952193Z"
    },
    "papermill": {
     "duration": 0.069628,
     "end_time": "2021-08-17T08:30:21.850511",
     "exception": false,
     "start_time": "2021-08-17T08:30:21.780883",
     "status": "completed"
    },
    "tags": []
   },
   "outputs": [],
   "source": [
    "# We can see that there is no null values in the data from above information.\n",
    "# But however we can aslo see from head() that there are few values as '?' in normalized-losses which can indicate as NaN."
   ]
  },
  {
   "cell_type": "code",
   "execution_count": 5,
   "id": "32e5b653",
   "metadata": {
    "execution": {
     "iopub.execute_input": "2021-08-17T08:30:21.969762Z",
     "iopub.status.busy": "2021-08-17T08:30:21.968992Z",
     "iopub.status.idle": "2021-08-17T08:30:22.007242Z",
     "shell.execute_reply": "2021-08-17T08:30:22.007836Z",
     "shell.execute_reply.started": "2021-08-17T08:26:42.958175Z"
    },
    "papermill": {
     "duration": 0.099222,
     "end_time": "2021-08-17T08:30:22.008095",
     "exception": false,
     "start_time": "2021-08-17T08:30:21.908873",
     "status": "completed"
    },
    "tags": []
   },
   "outputs": [
    {
     "name": "stdout",
     "output_type": "stream",
     "text": [
      "Number of ? in columns are\n",
      "normalized-losses has -> 41\n",
      "num-of-doors has -> 2\n",
      "bore has -> 4\n",
      "stroke has -> 4\n",
      "horsepower has -> 2\n",
      "peak-rpm has -> 2\n",
      "price has -> 4\n"
     ]
    }
   ],
   "source": [
    "print('Number of ? in columns are')\n",
    "for col in data.columns:\n",
    "    if len(data[data[col]=='?']) > 0:\n",
    "        print(col, 'has ->', len(data[data[col]=='?']))"
   ]
  },
  {
   "cell_type": "code",
   "execution_count": 6,
   "id": "6457e8d7",
   "metadata": {
    "execution": {
     "iopub.execute_input": "2021-08-17T08:30:22.137273Z",
     "iopub.status.busy": "2021-08-17T08:30:22.136189Z",
     "iopub.status.idle": "2021-08-17T08:30:22.141197Z",
     "shell.execute_reply": "2021-08-17T08:30:22.140292Z",
     "shell.execute_reply.started": "2021-08-17T08:26:43.003075Z"
    },
    "papermill": {
     "duration": 0.07274,
     "end_time": "2021-08-17T08:30:22.141401",
     "exception": false,
     "start_time": "2021-08-17T08:30:22.068661",
     "status": "completed"
    },
    "tags": []
   },
   "outputs": [],
   "source": [
    "# We can see that normalized-losses has the highest numbers of '?' of 41, so we can not delete the rows as it could affect the data. So instead we will replace it with mean values. We will replace the remaining columns with mean values and median as required. \n",
    "# We can delete rows where price is '?' as it is low in number and price is the target variable.  "
   ]
  },
  {
   "cell_type": "code",
   "execution_count": 7,
   "id": "82b5cece",
   "metadata": {
    "execution": {
     "iopub.execute_input": "2021-08-17T08:30:22.275455Z",
     "iopub.status.busy": "2021-08-17T08:30:22.274456Z",
     "iopub.status.idle": "2021-08-17T08:30:22.279329Z",
     "shell.execute_reply": "2021-08-17T08:30:22.278569Z",
     "shell.execute_reply.started": "2021-08-17T08:26:43.009475Z"
    },
    "papermill": {
     "duration": 0.081359,
     "end_time": "2021-08-17T08:30:22.279554",
     "exception": false,
     "start_time": "2021-08-17T08:30:22.198195",
     "status": "completed"
    },
    "tags": []
   },
   "outputs": [],
   "source": [
    "# Repalcing '?' with NaN\n",
    "data['price'] = data['price'].replace('?', np.NaN)\n",
    "data['normalized-losses'] = data['normalized-losses'].replace('?', np.NaN)\n",
    "data['num-of-doors'] = data['num-of-doors'].replace('?', np.NaN)\n",
    "data['stroke'] = data['stroke'].replace('?', np.NaN)\n",
    "data['horsepower'] = data['horsepower'].replace('?', np.NaN)\n",
    "data['peak-rpm'] = data['peak-rpm'].replace('?', np.NaN)\n",
    "data['bore'] = data['bore'].replace('?', np.NaN)\n",
    "data['num-of-doors'] = data['num-of-doors'].replace('?', np.NaN)\n",
    "\n",
    "#Removing rows where price are NaN\n",
    "data = data[data['price'].notna()]"
   ]
  },
  {
   "cell_type": "code",
   "execution_count": 8,
   "id": "b3ac0597",
   "metadata": {
    "execution": {
     "iopub.execute_input": "2021-08-17T08:30:22.420679Z",
     "iopub.status.busy": "2021-08-17T08:30:22.419610Z",
     "iopub.status.idle": "2021-08-17T08:30:22.426443Z",
     "shell.execute_reply": "2021-08-17T08:30:22.425284Z",
     "shell.execute_reply.started": "2021-08-17T08:26:43.032543Z"
    },
    "papermill": {
     "duration": 0.088498,
     "end_time": "2021-08-17T08:30:22.426634",
     "exception": false,
     "start_time": "2021-08-17T08:30:22.338136",
     "status": "completed"
    },
    "tags": []
   },
   "outputs": [
    {
     "name": "stdout",
     "output_type": "stream",
     "text": [
      "<class 'pandas.core.frame.DataFrame'>\n",
      "Int64Index: 201 entries, 0 to 204\n",
      "Data columns (total 26 columns):\n",
      " #   Column             Non-Null Count  Dtype  \n",
      "---  ------             --------------  -----  \n",
      " 0   symboling          201 non-null    int64  \n",
      " 1   normalized-losses  164 non-null    object \n",
      " 2   make               201 non-null    object \n",
      " 3   fuel-type          201 non-null    object \n",
      " 4   aspiration         201 non-null    object \n",
      " 5   num-of-doors       199 non-null    object \n",
      " 6   body-style         201 non-null    object \n",
      " 7   drive-wheels       201 non-null    object \n",
      " 8   engine-location    201 non-null    object \n",
      " 9   wheel-base         201 non-null    float64\n",
      " 10  length             201 non-null    float64\n",
      " 11  width              201 non-null    float64\n",
      " 12  height             201 non-null    float64\n",
      " 13  curb-weight        201 non-null    int64  \n",
      " 14  engine-type        201 non-null    object \n",
      " 15  num-of-cylinders   201 non-null    object \n",
      " 16  engine-size        201 non-null    int64  \n",
      " 17  fuel-system        201 non-null    object \n",
      " 18  bore               197 non-null    object \n",
      " 19  stroke             197 non-null    object \n",
      " 20  compression-ratio  201 non-null    float64\n",
      " 21  horsepower         199 non-null    object \n",
      " 22  peak-rpm           199 non-null    object \n",
      " 23  city-mpg           201 non-null    int64  \n",
      " 24  highway-mpg        201 non-null    int64  \n",
      " 25  price              201 non-null    object \n",
      "dtypes: float64(5), int64(5), object(16)\n",
      "memory usage: 42.4+ KB\n"
     ]
    }
   ],
   "source": [
    "data.info()"
   ]
  },
  {
   "cell_type": "code",
   "execution_count": 9,
   "id": "2b2983ec",
   "metadata": {
    "execution": {
     "iopub.execute_input": "2021-08-17T08:30:22.547938Z",
     "iopub.status.busy": "2021-08-17T08:30:22.547063Z",
     "iopub.status.idle": "2021-08-17T08:30:22.551485Z",
     "shell.execute_reply": "2021-08-17T08:30:22.552089Z",
     "shell.execute_reply.started": "2021-08-17T08:26:43.062765Z"
    },
    "papermill": {
     "duration": 0.067582,
     "end_time": "2021-08-17T08:30:22.552281",
     "exception": false,
     "start_time": "2021-08-17T08:30:22.484699",
     "status": "completed"
    },
    "tags": []
   },
   "outputs": [],
   "source": [
    "# We can see that the data type of some numerical columns are put in as object\n",
    "# We will convert it to numerical data type"
   ]
  },
  {
   "cell_type": "code",
   "execution_count": 10,
   "id": "2e8d557b",
   "metadata": {
    "execution": {
     "iopub.execute_input": "2021-08-17T08:30:22.681014Z",
     "iopub.status.busy": "2021-08-17T08:30:22.680121Z",
     "iopub.status.idle": "2021-08-17T08:30:22.685235Z",
     "shell.execute_reply": "2021-08-17T08:30:22.684337Z",
     "shell.execute_reply.started": "2021-08-17T08:26:43.074862Z"
    },
    "papermill": {
     "duration": 0.073337,
     "end_time": "2021-08-17T08:30:22.685435",
     "exception": false,
     "start_time": "2021-08-17T08:30:22.612098",
     "status": "completed"
    },
    "tags": []
   },
   "outputs": [
    {
     "data": {
      "text/plain": [
       "Index(['normalized-losses', 'make', 'fuel-type', 'aspiration', 'num-of-doors',\n",
       "       'body-style', 'drive-wheels', 'engine-location', 'engine-type',\n",
       "       'num-of-cylinders', 'fuel-system', 'bore', 'stroke', 'horsepower',\n",
       "       'peak-rpm', 'price'],\n",
       "      dtype='object')"
      ]
     },
     "execution_count": 10,
     "metadata": {},
     "output_type": "execute_result"
    }
   ],
   "source": [
    "# Check to see the column names and identify the columns that needs to be changed\n",
    "data.select_dtypes(['object']).columns"
   ]
  },
  {
   "cell_type": "code",
   "execution_count": 11,
   "id": "6a576dae",
   "metadata": {
    "execution": {
     "iopub.execute_input": "2021-08-17T08:30:22.810848Z",
     "iopub.status.busy": "2021-08-17T08:30:22.809674Z",
     "iopub.status.idle": "2021-08-17T08:30:22.814626Z",
     "shell.execute_reply": "2021-08-17T08:30:22.815251Z",
     "shell.execute_reply.started": "2021-08-17T08:26:43.093380Z"
    },
    "papermill": {
     "duration": 0.070124,
     "end_time": "2021-08-17T08:30:22.815482",
     "exception": false,
     "start_time": "2021-08-17T08:30:22.745358",
     "status": "completed"
    },
    "tags": []
   },
   "outputs": [],
   "source": [
    "# From above cell we can see that 'normalized-losses','bore', stroke','horsepower','peak-rpm' and 'price' are object type instead of numeric"
   ]
  },
  {
   "cell_type": "code",
   "execution_count": 12,
   "id": "2f1ad22f",
   "metadata": {
    "execution": {
     "iopub.execute_input": "2021-08-17T08:30:22.941425Z",
     "iopub.status.busy": "2021-08-17T08:30:22.940348Z",
     "iopub.status.idle": "2021-08-17T08:30:22.952965Z",
     "shell.execute_reply": "2021-08-17T08:30:22.953576Z",
     "shell.execute_reply.started": "2021-08-17T08:26:43.105439Z"
    },
    "papermill": {
     "duration": 0.076855,
     "end_time": "2021-08-17T08:30:22.953833",
     "exception": false,
     "start_time": "2021-08-17T08:30:22.876978",
     "status": "completed"
    },
    "tags": []
   },
   "outputs": [],
   "source": [
    "# converting Object type to float type\n",
    "data['normalized-losses'] = pd.to_numeric(data['normalized-losses'])\n",
    "data['bore'] = pd.to_numeric(data['bore'])\n",
    "data['stroke'] = pd.to_numeric(data['stroke'])\n",
    "data['horsepower'] = pd.to_numeric(data['horsepower'])\n",
    "data['peak-rpm'] = pd.to_numeric(data['peak-rpm'])\n",
    "data['price'] = pd.to_numeric(data['price'])\n"
   ]
  },
  {
   "cell_type": "markdown",
   "id": "ca0e1c71",
   "metadata": {
    "execution": {
     "iopub.execute_input": "2021-08-17T07:20:20.248663Z",
     "iopub.status.busy": "2021-08-17T07:20:20.248249Z",
     "iopub.status.idle": "2021-08-17T07:20:20.252927Z",
     "shell.execute_reply": "2021-08-17T07:20:20.252260Z",
     "shell.execute_reply.started": "2021-08-17T07:20:20.248631Z"
    },
    "papermill": {
     "duration": 0.060466,
     "end_time": "2021-08-17T08:30:23.073956",
     "exception": false,
     "start_time": "2021-08-17T08:30:23.013490",
     "status": "completed"
    },
    "tags": []
   },
   "source": [
    "#### Replacing NaN values "
   ]
  },
  {
   "cell_type": "code",
   "execution_count": 13,
   "id": "909fdf48",
   "metadata": {
    "execution": {
     "iopub.execute_input": "2021-08-17T08:30:23.194618Z",
     "iopub.status.busy": "2021-08-17T08:30:23.193776Z",
     "iopub.status.idle": "2021-08-17T08:30:23.202558Z",
     "shell.execute_reply": "2021-08-17T08:30:23.203122Z",
     "shell.execute_reply.started": "2021-08-17T08:26:43.124663Z"
    },
    "papermill": {
     "duration": 0.070358,
     "end_time": "2021-08-17T08:30:23.203346",
     "exception": false,
     "start_time": "2021-08-17T08:30:23.132988",
     "status": "completed"
    },
    "tags": []
   },
   "outputs": [
    {
     "data": {
      "text/plain": [
       "four    113\n",
       "two      86\n",
       "Name: num-of-doors, dtype: int64"
      ]
     },
     "execution_count": 13,
     "metadata": {},
     "output_type": "execute_result"
    }
   ],
   "source": [
    "# Checking Num-of-doors unique values to replace for NaN\n",
    "data['num-of-doors'].value_counts()"
   ]
  },
  {
   "cell_type": "code",
   "execution_count": 14,
   "id": "79714040",
   "metadata": {
    "execution": {
     "iopub.execute_input": "2021-08-17T08:30:23.326073Z",
     "iopub.status.busy": "2021-08-17T08:30:23.325039Z",
     "iopub.status.idle": "2021-08-17T08:30:23.331109Z",
     "shell.execute_reply": "2021-08-17T08:30:23.331682Z",
     "shell.execute_reply.started": "2021-08-17T08:26:43.142174Z"
    },
    "papermill": {
     "duration": 0.067565,
     "end_time": "2021-08-17T08:30:23.331961",
     "exception": false,
     "start_time": "2021-08-17T08:30:23.264396",
     "status": "completed"
    },
    "tags": []
   },
   "outputs": [],
   "source": [
    "# Since it has only 2 unique values and 'four' has the most count, we will replace NaN with 'four'\n",
    "\n",
    "data['num-of-doors'] = data['num-of-doors'].fillna('four')"
   ]
  },
  {
   "cell_type": "code",
   "execution_count": 15,
   "id": "dbb00256",
   "metadata": {
    "execution": {
     "iopub.execute_input": "2021-08-17T08:30:23.454342Z",
     "iopub.status.busy": "2021-08-17T08:30:23.453399Z",
     "iopub.status.idle": "2021-08-17T08:30:23.463891Z",
     "shell.execute_reply": "2021-08-17T08:30:23.464595Z",
     "shell.execute_reply.started": "2021-08-17T08:26:43.150428Z"
    },
    "papermill": {
     "duration": 0.071094,
     "end_time": "2021-08-17T08:30:23.464843",
     "exception": false,
     "start_time": "2021-08-17T08:30:23.393749",
     "status": "completed"
    },
    "tags": []
   },
   "outputs": [],
   "source": [
    "# We will use mean as the data in these columns are continuous\n",
    "data['normalized-losses'] = data['normalized-losses'].fillna(data['normalized-losses'].mean())\n",
    "data['horsepower'] = data['horsepower'].fillna(data['horsepower'].mean())\n",
    "\n",
    "# We will use median since bore, stroke, peak-rpm have few unique values \n",
    "data['bore'] = data['bore'].fillna(data['bore'].median())\n",
    "data['stroke'] = data['stroke'].fillna(data['stroke'].median())\n",
    "data['peak-rpm'] = data['peak-rpm'].fillna(data['peak-rpm'].median())\n"
   ]
  },
  {
   "cell_type": "markdown",
   "id": "2f152094",
   "metadata": {
    "execution": {
     "iopub.execute_input": "2021-08-17T07:24:21.515823Z",
     "iopub.status.busy": "2021-08-17T07:24:21.515455Z",
     "iopub.status.idle": "2021-08-17T07:24:21.519789Z",
     "shell.execute_reply": "2021-08-17T07:24:21.518789Z",
     "shell.execute_reply.started": "2021-08-17T07:24:21.515791Z"
    },
    "papermill": {
     "duration": 0.060609,
     "end_time": "2021-08-17T08:30:23.586237",
     "exception": false,
     "start_time": "2021-08-17T08:30:23.525628",
     "status": "completed"
    },
    "tags": []
   },
   "source": [
    "#### Now there are no null values in our data and our data is ready for EDA"
   ]
  },
  {
   "cell_type": "markdown",
   "id": "d36812b1",
   "metadata": {
    "execution": {
     "iopub.execute_input": "2021-08-17T07:24:29.220967Z",
     "iopub.status.busy": "2021-08-17T07:24:29.220611Z",
     "iopub.status.idle": "2021-08-17T07:24:29.224948Z",
     "shell.execute_reply": "2021-08-17T07:24:29.223965Z",
     "shell.execute_reply.started": "2021-08-17T07:24:29.220935Z"
    },
    "papermill": {
     "duration": 0.060074,
     "end_time": "2021-08-17T08:30:23.705340",
     "exception": false,
     "start_time": "2021-08-17T08:30:23.645266",
     "status": "completed"
    },
    "tags": []
   },
   "source": [
    "# EDA"
   ]
  },
  {
   "cell_type": "markdown",
   "id": "b55fe5fd",
   "metadata": {
    "papermill": {
     "duration": 0.062958,
     "end_time": "2021-08-17T08:30:23.830013",
     "exception": false,
     "start_time": "2021-08-17T08:30:23.767055",
     "status": "completed"
    },
    "tags": []
   },
   "source": [
    "## Visualization on Numerical Data"
   ]
  },
  {
   "cell_type": "code",
   "execution_count": 16,
   "id": "5b718281",
   "metadata": {
    "execution": {
     "iopub.execute_input": "2021-08-17T08:30:23.956876Z",
     "iopub.status.busy": "2021-08-17T08:30:23.956000Z",
     "iopub.status.idle": "2021-08-17T08:30:23.969067Z",
     "shell.execute_reply": "2021-08-17T08:30:23.968265Z",
     "shell.execute_reply.started": "2021-08-17T08:26:43.164721Z"
    },
    "papermill": {
     "duration": 0.076657,
     "end_time": "2021-08-17T08:30:23.969278",
     "exception": false,
     "start_time": "2021-08-17T08:30:23.892621",
     "status": "completed"
    },
    "tags": []
   },
   "outputs": [
    {
     "data": {
      "text/plain": [
       "Index(['symboling', 'normalized-losses', 'wheel-base', 'length', 'width',\n",
       "       'height', 'curb-weight', 'engine-size', 'bore', 'stroke',\n",
       "       'compression-ratio', 'horsepower', 'peak-rpm', 'city-mpg',\n",
       "       'highway-mpg', 'price'],\n",
       "      dtype='object')"
      ]
     },
     "execution_count": 16,
     "metadata": {},
     "output_type": "execute_result"
    }
   ],
   "source": [
    "numerical_cols = data.select_dtypes(['int32','int64','float']).columns\n",
    "numerical_cols"
   ]
  },
  {
   "cell_type": "code",
   "execution_count": 17,
   "id": "0fc2bdee",
   "metadata": {
    "execution": {
     "iopub.execute_input": "2021-08-17T08:30:24.108281Z",
     "iopub.status.busy": "2021-08-17T08:30:24.106573Z",
     "iopub.status.idle": "2021-08-17T08:30:24.571315Z",
     "shell.execute_reply": "2021-08-17T08:30:24.569618Z",
     "shell.execute_reply.started": "2021-08-17T08:26:43.184450Z"
    },
    "papermill": {
     "duration": 0.541322,
     "end_time": "2021-08-17T08:30:24.571536",
     "exception": false,
     "start_time": "2021-08-17T08:30:24.030214",
     "status": "completed"
    },
    "tags": []
   },
   "outputs": [
    {
     "data": {
      "image/png": "[encoded data removed]",
      "text/plain": [
       "<Figure size 720x720 with 2 Axes>"
      ]
     },
     "metadata": {
      "needs_background": "light"
     },
     "output_type": "display_data"
    }
   ],
   "source": [
    "# Checking Correlaion between numerical columns and target variable\n",
    "corr_matrix = data[numerical_cols].corr()\n",
    "plt.figure(figsize=(10,10))\n",
    "sns.heatmap(corr_matrix['price'].sort_values(ascending=False).to_frame()[1:],square=True ,annot=True)\n",
    "plt.show()"
   ]
  },
  {
   "cell_type": "code",
   "execution_count": 18,
   "id": "cf175d2f",
   "metadata": {
    "execution": {
     "iopub.execute_input": "2021-08-17T08:30:24.704560Z",
     "iopub.status.busy": "2021-08-17T08:30:24.703599Z",
     "iopub.status.idle": "2021-08-17T08:30:24.705971Z",
     "shell.execute_reply": "2021-08-17T08:30:24.706541Z",
     "shell.execute_reply.started": "2021-08-17T08:26:43.622651Z"
    },
    "papermill": {
     "duration": 0.070136,
     "end_time": "2021-08-17T08:30:24.706830",
     "exception": false,
     "start_time": "2021-08-17T08:30:24.636694",
     "status": "completed"
    },
    "tags": []
   },
   "outputs": [],
   "source": [
    "# Engine-size, curb-weight, horsepower are the top 3 highly correlated features to our price. That means these 3 features are very important for our price prediction.\n",
    "# Whereas symboling, compression_ratio and stroke are least correlated features. We will probably drop these columns later if necessary"
   ]
  },
  {
   "cell_type": "code",
   "execution_count": 19,
   "id": "a7c8a75f",
   "metadata": {
    "execution": {
     "iopub.execute_input": "2021-08-17T08:30:24.837600Z",
     "iopub.status.busy": "2021-08-17T08:30:24.836594Z",
     "iopub.status.idle": "2021-08-17T08:30:25.770951Z",
     "shell.execute_reply": "2021-08-17T08:30:25.770182Z",
     "shell.execute_reply.started": "2021-08-17T08:26:43.630617Z"
    },
    "papermill": {
     "duration": 1.000547,
     "end_time": "2021-08-17T08:30:25.771139",
     "exception": false,
     "start_time": "2021-08-17T08:30:24.770592",
     "status": "completed"
    },
    "tags": []
   },
   "outputs": [
    {
     "data": {
      "image/png": "[encoded data removed]",
      "text/plain": [
       "<Figure size 576x360 with 1 Axes>"
      ]
     },
     "metadata": {
      "needs_background": "light"
     },
     "output_type": "display_data"
    },
    {
     "data": {
      "image/png": "[encoded data removed]",
      "text/plain": [
       "<Figure size 576x360 with 1 Axes>"
      ]
     },
     "metadata": {
      "needs_background": "light"
     },
     "output_type": "display_data"
    },
    {
     "data": {
      "image/png": "[encoded data removed]",
      "text/plain": [
       "<Figure size 576x360 with 1 Axes>"
      ]
     },
     "metadata": {
      "needs_background": "light"
     },
     "output_type": "display_data"
    }
   ],
   "source": [
    "# Plotting our top 3 highly correlated features against target variable\n",
    "plt.figure(figsize=(8,5))\n",
    "sns.scatterplot(data=data, x=data['engine-size'], y=data['price'])\n",
    "plt.xlabel('Engine Size', fontsize=12)\n",
    "plt.ylabel('Price', fontsize=12)\n",
    "plt.title('Engine size vs Price', weight='bold',fontsize=12)\n",
    "plt.show()\n",
    "\n",
    "plt.figure(figsize=(8,5))\n",
    "sns.scatterplot(data=data, x='curb-weight', y='price')\n",
    "plt.xlabel('Curb weight', fontsize=12)\n",
    "plt.ylabel('Price', fontsize=12)\n",
    "plt.title('Curb weight vs Price', weight='bold', fontsize=12)\n",
    "plt.show()\n",
    "\n",
    "plt.figure(figsize=(8,5))\n",
    "sns.scatterplot(data=data, x='horsepower', y='price')\n",
    "plt.xlabel('Horsepower', fontsize=12)\n",
    "plt.ylabel('Price', fontsize=12)\n",
    "plt.title('HorsePower vs Price', weight='bold', fontsize=12)\n",
    "plt.show()"
   ]
  },
  {
   "cell_type": "code",
   "execution_count": 20,
   "id": "c3c0d322",
   "metadata": {
    "execution": {
     "iopub.execute_input": "2021-08-17T08:30:25.987446Z",
     "iopub.status.busy": "2021-08-17T08:30:25.986584Z",
     "iopub.status.idle": "2021-08-17T08:30:26.134797Z",
     "shell.execute_reply": "2021-08-17T08:30:26.133948Z",
     "shell.execute_reply.started": "2021-08-17T08:26:44.381446Z"
    },
    "papermill": {
     "duration": 0.296861,
     "end_time": "2021-08-17T08:30:26.135027",
     "exception": false,
     "start_time": "2021-08-17T08:30:25.838166",
     "status": "completed"
    },
    "tags": []
   },
   "outputs": [
    {
     "data": {
      "image/png": "[encoded data removed]",
      "text/plain": [
       "<Figure size 432x288 with 1 Axes>"
      ]
     },
     "metadata": {
      "needs_background": "light"
     },
     "output_type": "display_data"
    }
   ],
   "source": [
    "plt.scatter(data['symboling'], data['price'])\n",
    "plt.xlabel('Symboling')\n",
    "plt.ylabel('Price')\n",
    "plt.title('Symboling vs Price',weight='bold', size=12)\n",
    "plt.show()"
   ]
  },
  {
   "cell_type": "code",
   "execution_count": 21,
   "id": "192c9cb0",
   "metadata": {
    "execution": {
     "iopub.execute_input": "2021-08-17T08:30:26.274907Z",
     "iopub.status.busy": "2021-08-17T08:30:26.274060Z",
     "iopub.status.idle": "2021-08-17T08:30:26.279490Z",
     "shell.execute_reply": "2021-08-17T08:30:26.278685Z",
     "shell.execute_reply.started": "2021-08-17T08:26:44.572367Z"
    },
    "papermill": {
     "duration": 0.077829,
     "end_time": "2021-08-17T08:30:26.279658",
     "exception": false,
     "start_time": "2021-08-17T08:30:26.201829",
     "status": "completed"
    },
    "tags": []
   },
   "outputs": [],
   "source": [
    "# Symboling rating is risk factor therefore it can not be considered as Numerical \n",
    "# It is considered as Ordinal Category\n",
    "# We will create different columns describing each rating further in the analysis"
   ]
  },
  {
   "cell_type": "markdown",
   "id": "1a055113",
   "metadata": {
    "papermill": {
     "duration": 0.059528,
     "end_time": "2021-08-17T08:30:26.406483",
     "exception": false,
     "start_time": "2021-08-17T08:30:26.346955",
     "status": "completed"
    },
    "tags": []
   },
   "source": [
    "## Visualization of Categorical Data"
   ]
  },
  {
   "cell_type": "code",
   "execution_count": 22,
   "id": "113be03e",
   "metadata": {
    "execution": {
     "iopub.execute_input": "2021-08-17T08:30:26.564666Z",
     "iopub.status.busy": "2021-08-17T08:30:26.563313Z",
     "iopub.status.idle": "2021-08-17T08:30:26.570105Z",
     "shell.execute_reply": "2021-08-17T08:30:26.569424Z",
     "shell.execute_reply.started": "2021-08-17T08:26:44.579541Z"
    },
    "papermill": {
     "duration": 0.098958,
     "end_time": "2021-08-17T08:30:26.570300",
     "exception": false,
     "start_time": "2021-08-17T08:30:26.471342",
     "status": "completed"
    },
    "tags": []
   },
   "outputs": [
    {
     "data": {
      "text/plain": [
       "Index(['make', 'fuel-type', 'aspiration', 'num-of-doors', 'body-style',\n",
       "       'drive-wheels', 'engine-location', 'engine-type', 'num-of-cylinders',\n",
       "       'fuel-system'],\n",
       "      dtype='object')"
      ]
     },
     "execution_count": 22,
     "metadata": {},
     "output_type": "execute_result"
    }
   ],
   "source": [
    "categorical_cols = data.select_dtypes(['object']).columns\n",
    "categorical_cols"
   ]
  },
  {
   "cell_type": "code",
   "execution_count": 23,
   "id": "fd84e492",
   "metadata": {
    "execution": {
     "iopub.execute_input": "2021-08-17T08:30:26.720396Z",
     "iopub.status.busy": "2021-08-17T08:30:26.718978Z",
     "iopub.status.idle": "2021-08-17T08:30:26.727251Z",
     "shell.execute_reply": "2021-08-17T08:30:26.726550Z",
     "shell.execute_reply.started": "2021-08-17T08:26:44.605045Z"
    },
    "papermill": {
     "duration": 0.091017,
     "end_time": "2021-08-17T08:30:26.727420",
     "exception": false,
     "start_time": "2021-08-17T08:30:26.636403",
     "status": "completed"
    },
    "tags": []
   },
   "outputs": [
    {
     "name": "stdout",
     "output_type": "stream",
     "text": [
      "Unqiue value counts of fuel-type are:  \n",
      " gas       181\n",
      "diesel     20\n",
      "Name: fuel-type, dtype: int64\n",
      "\n",
      "Unqiue value counts of aspiration are \n",
      " std      165\n",
      "turbo     36\n",
      "Name: aspiration, dtype: int64\n",
      "\n",
      "Unqiue value counts of num-of-doors are \n",
      " four    115\n",
      "two      86\n",
      "Name: num-of-doors, dtype: int64\n",
      "\n",
      "Unqiue value counts of engine-location are \n",
      " front    198\n",
      "rear       3\n",
      "Name: engine-location, dtype: int64\n"
     ]
    }
   ],
   "source": [
    "print(f'Unqiue value counts of fuel-type are: ','\\n', data['fuel-type'].value_counts())\n",
    "print()\n",
    "print(f'Unqiue value counts of aspiration are', '\\n',data['aspiration'].value_counts())\n",
    "print()\n",
    "print(f'Unqiue value counts of num-of-doors are', '\\n',data['num-of-doors'].value_counts())\n",
    "print()\n",
    "print(f'Unqiue value counts of engine-location are', '\\n',data['engine-location'].value_counts())"
   ]
  },
  {
   "cell_type": "code",
   "execution_count": 24,
   "id": "6e24859e",
   "metadata": {
    "execution": {
     "iopub.execute_input": "2021-08-17T08:30:26.870638Z",
     "iopub.status.busy": "2021-08-17T08:30:26.869095Z",
     "iopub.status.idle": "2021-08-17T08:30:26.886343Z",
     "shell.execute_reply": "2021-08-17T08:30:26.885169Z",
     "shell.execute_reply.started": "2021-08-17T08:26:44.624855Z"
    },
    "papermill": {
     "duration": 0.092983,
     "end_time": "2021-08-17T08:30:26.886616",
     "exception": false,
     "start_time": "2021-08-17T08:30:26.793633",
     "status": "completed"
    },
    "tags": []
   },
   "outputs": [],
   "source": [
    "# Storing the above columns into separate variables and transforming them into binary values\n",
    "cols = ['fuel-type', 'aspiration', 'num-of-doors', 'engine-location']\n",
    "\n",
    "le = LabelEncoder()\n",
    "\n",
    "data[cols] = data[cols].apply(le.fit_transform)\n"
   ]
  },
  {
   "cell_type": "code",
   "execution_count": 25,
   "id": "eca2618d",
   "metadata": {
    "execution": {
     "iopub.execute_input": "2021-08-17T08:30:27.087260Z",
     "iopub.status.busy": "2021-08-17T08:30:27.086335Z",
     "iopub.status.idle": "2021-08-17T08:30:27.259550Z",
     "shell.execute_reply": "2021-08-17T08:30:27.258939Z",
     "shell.execute_reply.started": "2021-08-17T08:26:44.640262Z"
    },
    "papermill": {
     "duration": 0.279209,
     "end_time": "2021-08-17T08:30:27.259703",
     "exception": false,
     "start_time": "2021-08-17T08:30:26.980494",
     "status": "completed"
    },
    "tags": []
   },
   "outputs": [
    {
     "data": {
      "image/png": "[encoded data removed]",
      "text/plain": [
       "<Figure size 180x360 with 1 Axes>"
      ]
     },
     "metadata": {
      "needs_background": "light"
     },
     "output_type": "display_data"
    }
   ],
   "source": [
    "plt.figure(figsize=(2.5,5))\n",
    "plt.scatter(data['fuel-type'], data['price'])\n",
    "plt.xlabel('Fuel type', size=10)\n",
    "plt.ylabel('Price', size=10)\n",
    "plt.title('Fuel Type vs Price', weight='bold', size=12)\n",
    "plt.show()"
   ]
  },
  {
   "cell_type": "code",
   "execution_count": 26,
   "id": "128d13c4",
   "metadata": {
    "execution": {
     "iopub.execute_input": "2021-08-17T08:30:27.426183Z",
     "iopub.status.busy": "2021-08-17T08:30:27.422414Z",
     "iopub.status.idle": "2021-08-17T08:30:27.591469Z",
     "shell.execute_reply": "2021-08-17T08:30:27.592062Z",
     "shell.execute_reply.started": "2021-08-17T08:26:44.801204Z"
    },
    "papermill": {
     "duration": 0.265506,
     "end_time": "2021-08-17T08:30:27.592318",
     "exception": false,
     "start_time": "2021-08-17T08:30:27.326812",
     "status": "completed"
    },
    "tags": []
   },
   "outputs": [
    {
     "data": {
      "image/png": "[encoded data removed]",
      "text/plain": [
       "<Figure size 180x360 with 1 Axes>"
      ]
     },
     "metadata": {
      "needs_background": "light"
     },
     "output_type": "display_data"
    }
   ],
   "source": [
    "plt.figure(figsize=(2.5,5))\n",
    "plt.scatter(data['aspiration'], data['price'])\n",
    "plt.xlabel('Aspiration', size=10)\n",
    "plt.ylabel('Price', size=10)\n",
    "plt.title('Aspiration vs Price', weight='bold', size=12)\n",
    "plt.show()"
   ]
  },
  {
   "cell_type": "code",
   "execution_count": 27,
   "id": "be2cf486",
   "metadata": {
    "execution": {
     "iopub.execute_input": "2021-08-17T08:30:27.763220Z",
     "iopub.status.busy": "2021-08-17T08:30:27.761797Z",
     "iopub.status.idle": "2021-08-17T08:30:27.933668Z",
     "shell.execute_reply": "2021-08-17T08:30:27.933061Z",
     "shell.execute_reply.started": "2021-08-17T08:26:44.968007Z"
    },
    "papermill": {
     "duration": 0.273568,
     "end_time": "2021-08-17T08:30:27.933845",
     "exception": false,
     "start_time": "2021-08-17T08:30:27.660277",
     "status": "completed"
    },
    "tags": []
   },
   "outputs": [
    {
     "data": {
      "image/png": "[encoded data removed]",
      "text/plain": [
       "<Figure size 180x360 with 1 Axes>"
      ]
     },
     "metadata": {
      "needs_background": "light"
     },
     "output_type": "display_data"
    }
   ],
   "source": [
    "plt.figure(figsize=(2.5,5))\n",
    "plt.scatter(data['engine-location'], data['price'])\n",
    "plt.xlabel('engine-location', size=10)\n",
    "plt.ylabel('Price', size=10)\n",
    "plt.title('engine-location vs Price', weight='bold', size=12)\n",
    "plt.show()"
   ]
  },
  {
   "cell_type": "code",
   "execution_count": 28,
   "id": "6107955b",
   "metadata": {
    "execution": {
     "iopub.execute_input": "2021-08-17T08:30:28.138853Z",
     "iopub.status.busy": "2021-08-17T08:30:28.128198Z",
     "iopub.status.idle": "2021-08-17T08:30:28.275279Z",
     "shell.execute_reply": "2021-08-17T08:30:28.275826Z",
     "shell.execute_reply.started": "2021-08-17T08:26:45.141870Z"
    },
    "papermill": {
     "duration": 0.277726,
     "end_time": "2021-08-17T08:30:28.276060",
     "exception": false,
     "start_time": "2021-08-17T08:30:27.998334",
     "status": "completed"
    },
    "tags": []
   },
   "outputs": [
    {
     "data": {
      "image/png": "[encoded data removed]",
      "text/plain": [
       "<Figure size 180x360 with 1 Axes>"
      ]
     },
     "metadata": {
      "needs_background": "light"
     },
     "output_type": "display_data"
    }
   ],
   "source": [
    "plt.figure(figsize=(2.5,5))\n",
    "plt.scatter(data['num-of-doors'], data['price'])\n",
    "plt.xlabel('Num-of-doors', size=10)\n",
    "plt.ylabel('Price', size=10)\n",
    "plt.title('Number of doors vs price', weight='bold', size=12)\n",
    "plt.show()"
   ]
  },
  {
   "cell_type": "code",
   "execution_count": 29,
   "id": "de74da1a",
   "metadata": {
    "execution": {
     "iopub.execute_input": "2021-08-17T08:30:28.489430Z",
     "iopub.status.busy": "2021-08-17T08:30:28.488497Z",
     "iopub.status.idle": "2021-08-17T08:30:28.636639Z",
     "shell.execute_reply": "2021-08-17T08:30:28.635941Z",
     "shell.execute_reply.started": "2021-08-17T08:26:45.305741Z"
    },
    "papermill": {
     "duration": 0.291856,
     "end_time": "2021-08-17T08:30:28.636836",
     "exception": false,
     "start_time": "2021-08-17T08:30:28.344980",
     "status": "completed"
    },
    "tags": []
   },
   "outputs": [
    {
     "data": {
      "image/png": "[encoded data removed]",
      "text/plain": [
       "<Figure size 432x288 with 1 Axes>"
      ]
     },
     "metadata": {
      "needs_background": "light"
     },
     "output_type": "display_data"
    }
   ],
   "source": [
    "plt.scatter(data=data, x='num-of-cylinders', y='price', c=data['num-of-doors'])\n",
    "plt.xlabel('num-of-cylinders', size=10)\n",
    "plt.ylabel('price', size=10)\n",
    "plt.title('Number of cylinders vs price', weight='bold', size=12)\n",
    "plt.show()"
   ]
  },
  {
   "cell_type": "code",
   "execution_count": 30,
   "id": "0428f11d",
   "metadata": {
    "execution": {
     "iopub.execute_input": "2021-08-17T08:30:28.821790Z",
     "iopub.status.busy": "2021-08-17T08:30:28.820427Z",
     "iopub.status.idle": "2021-08-17T08:30:29.133818Z",
     "shell.execute_reply": "2021-08-17T08:30:29.132952Z",
     "shell.execute_reply.started": "2021-08-17T08:26:45.480307Z"
    },
    "papermill": {
     "duration": 0.430567,
     "end_time": "2021-08-17T08:30:29.134033",
     "exception": false,
     "start_time": "2021-08-17T08:30:28.703466",
     "status": "completed"
    },
    "tags": []
   },
   "outputs": [
    {
     "data": {
      "image/png": "[encoded data removed]",
      "text/plain": [
       "<Figure size 864x576 with 1 Axes>"
      ]
     },
     "metadata": {
      "needs_background": "light"
     },
     "output_type": "display_data"
    }
   ],
   "source": [
    "# Plotting bar graph for various categorical features\n",
    "f, ax = plt.subplots(figsize=(12,8))\n",
    "\n",
    "ax.barh(data['make'].value_counts().index, data['make'].value_counts().sort_values(ascending=True))\n",
    "plt.xticks(size=10)\n",
    "plt.yticks(size=12)\n",
    "ax.set_xlabel('Counts', fontsize=12)\n",
    "ax.set_title('Counts of Car Manufacturers', weight='bold', fontsize=12)\n",
    "plt.show()"
   ]
  },
  {
   "cell_type": "code",
   "execution_count": 31,
   "id": "cc062922",
   "metadata": {
    "execution": {
     "iopub.execute_input": "2021-08-17T08:30:29.318248Z",
     "iopub.status.busy": "2021-08-17T08:30:29.310229Z",
     "iopub.status.idle": "2021-08-17T08:30:29.466853Z",
     "shell.execute_reply": "2021-08-17T08:30:29.465225Z",
     "shell.execute_reply.started": "2021-08-17T08:26:45.771145Z"
    },
    "papermill": {
     "duration": 0.259302,
     "end_time": "2021-08-17T08:30:29.467123",
     "exception": false,
     "start_time": "2021-08-17T08:30:29.207821",
     "status": "completed"
    },
    "tags": []
   },
   "outputs": [
    {
     "data": {
      "image/png": "[encoded data removed]",
      "text/plain": [
       "<Figure size 576x288 with 1 Axes>"
      ]
     },
     "metadata": {
      "needs_background": "light"
     },
     "output_type": "display_data"
    }
   ],
   "source": [
    "f, ax = plt.subplots(figsize=(8,4))\n",
    "\n",
    "ax.barh(data['body-style'].value_counts().index, data['body-style'].value_counts().sort_values(ascending=True))\n",
    "plt.xticks(size=10)\n",
    "plt.yticks( size=12)\n",
    "ax.set_xlabel('Counts', fontsize=12)\n",
    "#ax.set_ylabel('Body Style', fontsize=15)\n",
    "ax.set_title('Different types of body style', fontsize=12, weight='bold')\n",
    "plt.show()"
   ]
  },
  {
   "cell_type": "code",
   "execution_count": 32,
   "id": "1ea80ec6",
   "metadata": {
    "execution": {
     "iopub.execute_input": "2021-08-17T08:30:29.652349Z",
     "iopub.status.busy": "2021-08-17T08:30:29.651462Z",
     "iopub.status.idle": "2021-08-17T08:30:29.783705Z",
     "shell.execute_reply": "2021-08-17T08:30:29.784408Z",
     "shell.execute_reply.started": "2021-08-17T08:26:45.915892Z"
    },
    "papermill": {
     "duration": 0.240987,
     "end_time": "2021-08-17T08:30:29.784681",
     "exception": false,
     "start_time": "2021-08-17T08:30:29.543694",
     "status": "completed"
    },
    "tags": []
   },
   "outputs": [
    {
     "data": {
      "image/png": "[encoded data removed]",
      "text/plain": [
       "<Figure size 576x216 with 1 Axes>"
      ]
     },
     "metadata": {
      "needs_background": "light"
     },
     "output_type": "display_data"
    }
   ],
   "source": [
    "f, ax = plt.subplots(figsize=(8,3))\n",
    "\n",
    "ax.barh(data['drive-wheels'].value_counts().index, data['drive-wheels'].value_counts().sort_values(ascending=True))\n",
    "plt.xticks(size=10)\n",
    "plt.yticks( size=12)\n",
    "ax.set_xlabel('Counts', fontsize=12)\n",
    "#ax.set_ylabel('Body Style', fontsize=15)\n",
    "ax.set_title('Different drive wheels', fontsize=12, weight='bold')\n",
    "plt.show()"
   ]
  },
  {
   "cell_type": "markdown",
   "id": "1a356ca0",
   "metadata": {
    "papermill": {
     "duration": 0.075465,
     "end_time": "2021-08-17T08:30:29.935473",
     "exception": false,
     "start_time": "2021-08-17T08:30:29.860008",
     "status": "completed"
    },
    "tags": []
   },
   "source": [
    "## Checking for Outliers"
   ]
  },
  {
   "cell_type": "code",
   "execution_count": 33,
   "id": "cbe4923d",
   "metadata": {
    "execution": {
     "iopub.execute_input": "2021-08-17T08:30:30.095474Z",
     "iopub.status.busy": "2021-08-17T08:30:30.091836Z",
     "iopub.status.idle": "2021-08-17T08:30:30.191232Z",
     "shell.execute_reply": "2021-08-17T08:30:30.190592Z",
     "shell.execute_reply.started": "2021-08-17T08:26:46.052716Z"
    },
    "papermill": {
     "duration": 0.182541,
     "end_time": "2021-08-17T08:30:30.191405",
     "exception": false,
     "start_time": "2021-08-17T08:30:30.008864",
     "status": "completed"
    },
    "tags": []
   },
   "outputs": [
    {
     "data": {
      "text/html": [
       "<div>\n",
       "<style scoped>\n",
       "    .dataframe tbody tr th:only-of-type {\n",
       "        vertical-align: middle;\n",
       "    }\n",
       "\n",
       "    .dataframe tbody tr th {\n",
       "        vertical-align: top;\n",
       "    }\n",
       "\n",
       "    .dataframe thead th {\n",
       "        text-align: right;\n",
       "    }\n",
       "</style>\n",
       "<table border=\"1\" class=\"dataframe\">\n",
       "  <thead>\n",
       "    <tr style=\"text-align: right;\">\n",
       "      <th></th>\n",
       "      <th>symboling</th>\n",
       "      <th>normalized-losses</th>\n",
       "      <th>fuel-type</th>\n",
       "      <th>aspiration</th>\n",
       "      <th>num-of-doors</th>\n",
       "      <th>engine-location</th>\n",
       "      <th>wheel-base</th>\n",
       "      <th>length</th>\n",
       "      <th>width</th>\n",
       "      <th>height</th>\n",
       "      <th>curb-weight</th>\n",
       "      <th>engine-size</th>\n",
       "      <th>bore</th>\n",
       "      <th>stroke</th>\n",
       "      <th>compression-ratio</th>\n",
       "      <th>horsepower</th>\n",
       "      <th>peak-rpm</th>\n",
       "      <th>city-mpg</th>\n",
       "      <th>highway-mpg</th>\n",
       "      <th>price</th>\n",
       "    </tr>\n",
       "  </thead>\n",
       "  <tbody>\n",
       "    <tr>\n",
       "      <th>count</th>\n",
       "      <td>201.000000</td>\n",
       "      <td>201.00000</td>\n",
       "      <td>201.000000</td>\n",
       "      <td>201.000000</td>\n",
       "      <td>201.000000</td>\n",
       "      <td>201.000000</td>\n",
       "      <td>201.000000</td>\n",
       "      <td>201.000000</td>\n",
       "      <td>201.000000</td>\n",
       "      <td>201.000000</td>\n",
       "      <td>201.000000</td>\n",
       "      <td>201.000000</td>\n",
       "      <td>201.000000</td>\n",
       "      <td>201.000000</td>\n",
       "      <td>201.000000</td>\n",
       "      <td>201.000000</td>\n",
       "      <td>201.000000</td>\n",
       "      <td>201.000000</td>\n",
       "      <td>201.000000</td>\n",
       "      <td>201.000000</td>\n",
       "    </tr>\n",
       "    <tr>\n",
       "      <th>mean</th>\n",
       "      <td>0.840796</td>\n",
       "      <td>122.00000</td>\n",
       "      <td>0.900498</td>\n",
       "      <td>0.179104</td>\n",
       "      <td>0.427861</td>\n",
       "      <td>0.014925</td>\n",
       "      <td>98.797015</td>\n",
       "      <td>174.200995</td>\n",
       "      <td>65.889055</td>\n",
       "      <td>53.766667</td>\n",
       "      <td>2555.666667</td>\n",
       "      <td>126.875622</td>\n",
       "      <td>3.330299</td>\n",
       "      <td>3.257562</td>\n",
       "      <td>10.164279</td>\n",
       "      <td>103.396985</td>\n",
       "      <td>5118.407960</td>\n",
       "      <td>25.179104</td>\n",
       "      <td>30.686567</td>\n",
       "      <td>13207.129353</td>\n",
       "    </tr>\n",
       "    <tr>\n",
       "      <th>std</th>\n",
       "      <td>1.254802</td>\n",
       "      <td>31.99625</td>\n",
       "      <td>0.300083</td>\n",
       "      <td>0.384397</td>\n",
       "      <td>0.496004</td>\n",
       "      <td>0.121557</td>\n",
       "      <td>6.066366</td>\n",
       "      <td>12.322175</td>\n",
       "      <td>2.101471</td>\n",
       "      <td>2.447822</td>\n",
       "      <td>517.296727</td>\n",
       "      <td>41.546834</td>\n",
       "      <td>0.268088</td>\n",
       "      <td>0.316082</td>\n",
       "      <td>4.004965</td>\n",
       "      <td>37.365602</td>\n",
       "      <td>478.183493</td>\n",
       "      <td>6.423220</td>\n",
       "      <td>6.815150</td>\n",
       "      <td>7947.066342</td>\n",
       "    </tr>\n",
       "    <tr>\n",
       "      <th>min</th>\n",
       "      <td>-2.000000</td>\n",
       "      <td>65.00000</td>\n",
       "      <td>0.000000</td>\n",
       "      <td>0.000000</td>\n",
       "      <td>0.000000</td>\n",
       "      <td>0.000000</td>\n",
       "      <td>86.600000</td>\n",
       "      <td>141.100000</td>\n",
       "      <td>60.300000</td>\n",
       "      <td>47.800000</td>\n",
       "      <td>1488.000000</td>\n",
       "      <td>61.000000</td>\n",
       "      <td>2.540000</td>\n",
       "      <td>2.070000</td>\n",
       "      <td>7.000000</td>\n",
       "      <td>48.000000</td>\n",
       "      <td>4150.000000</td>\n",
       "      <td>13.000000</td>\n",
       "      <td>16.000000</td>\n",
       "      <td>5118.000000</td>\n",
       "    </tr>\n",
       "    <tr>\n",
       "      <th>25%</th>\n",
       "      <td>0.000000</td>\n",
       "      <td>101.00000</td>\n",
       "      <td>1.000000</td>\n",
       "      <td>0.000000</td>\n",
       "      <td>0.000000</td>\n",
       "      <td>0.000000</td>\n",
       "      <td>94.500000</td>\n",
       "      <td>166.800000</td>\n",
       "      <td>64.100000</td>\n",
       "      <td>52.000000</td>\n",
       "      <td>2169.000000</td>\n",
       "      <td>98.000000</td>\n",
       "      <td>3.150000</td>\n",
       "      <td>3.110000</td>\n",
       "      <td>8.600000</td>\n",
       "      <td>70.000000</td>\n",
       "      <td>4800.000000</td>\n",
       "      <td>19.000000</td>\n",
       "      <td>25.000000</td>\n",
       "      <td>7775.000000</td>\n",
       "    </tr>\n",
       "    <tr>\n",
       "      <th>50%</th>\n",
       "      <td>1.000000</td>\n",
       "      <td>122.00000</td>\n",
       "      <td>1.000000</td>\n",
       "      <td>0.000000</td>\n",
       "      <td>0.000000</td>\n",
       "      <td>0.000000</td>\n",
       "      <td>97.000000</td>\n",
       "      <td>173.200000</td>\n",
       "      <td>65.500000</td>\n",
       "      <td>54.100000</td>\n",
       "      <td>2414.000000</td>\n",
       "      <td>120.000000</td>\n",
       "      <td>3.310000</td>\n",
       "      <td>3.290000</td>\n",
       "      <td>9.000000</td>\n",
       "      <td>95.000000</td>\n",
       "      <td>5200.000000</td>\n",
       "      <td>24.000000</td>\n",
       "      <td>30.000000</td>\n",
       "      <td>10295.000000</td>\n",
       "    </tr>\n",
       "    <tr>\n",
       "      <th>75%</th>\n",
       "      <td>2.000000</td>\n",
       "      <td>137.00000</td>\n",
       "      <td>1.000000</td>\n",
       "      <td>0.000000</td>\n",
       "      <td>1.000000</td>\n",
       "      <td>0.000000</td>\n",
       "      <td>102.400000</td>\n",
       "      <td>183.500000</td>\n",
       "      <td>66.600000</td>\n",
       "      <td>55.500000</td>\n",
       "      <td>2926.000000</td>\n",
       "      <td>141.000000</td>\n",
       "      <td>3.580000</td>\n",
       "      <td>3.410000</td>\n",
       "      <td>9.400000</td>\n",
       "      <td>116.000000</td>\n",
       "      <td>5500.000000</td>\n",
       "      <td>30.000000</td>\n",
       "      <td>34.000000</td>\n",
       "      <td>16500.000000</td>\n",
       "    </tr>\n",
       "    <tr>\n",
       "      <th>max</th>\n",
       "      <td>3.000000</td>\n",
       "      <td>256.00000</td>\n",
       "      <td>1.000000</td>\n",
       "      <td>1.000000</td>\n",
       "      <td>1.000000</td>\n",
       "      <td>1.000000</td>\n",
       "      <td>120.900000</td>\n",
       "      <td>208.100000</td>\n",
       "      <td>72.000000</td>\n",
       "      <td>59.800000</td>\n",
       "      <td>4066.000000</td>\n",
       "      <td>326.000000</td>\n",
       "      <td>3.940000</td>\n",
       "      <td>4.170000</td>\n",
       "      <td>23.000000</td>\n",
       "      <td>262.000000</td>\n",
       "      <td>6600.000000</td>\n",
       "      <td>49.000000</td>\n",
       "      <td>54.000000</td>\n",
       "      <td>45400.000000</td>\n",
       "    </tr>\n",
       "  </tbody>\n",
       "</table>\n",
       "</div>"
      ],
      "text/plain": [
       "        symboling  normalized-losses   fuel-type  aspiration  num-of-doors  \\\n",
       "count  201.000000          201.00000  201.000000  201.000000    201.000000   \n",
       "mean     0.840796          122.00000    0.900498    0.179104      0.427861   \n",
       "std      1.254802           31.99625    0.300083    0.384397      0.496004   \n",
       "min     -2.000000           65.00000    0.000000    0.000000      0.000000   \n",
       "25%      0.000000          101.00000    1.000000    0.000000      0.000000   \n",
       "50%      1.000000          122.00000    1.000000    0.000000      0.000000   \n",
       "75%      2.000000          137.00000    1.000000    0.000000      1.000000   \n",
       "max      3.000000          256.00000    1.000000    1.000000      1.000000   \n",
       "\n",
       "       engine-location  wheel-base      length       width      height  \\\n",
       "count       201.000000  201.000000  201.000000  201.000000  201.000000   \n",
       "mean          0.014925   98.797015  174.200995   65.889055   53.766667   \n",
       "std           0.121557    6.066366   12.322175    2.101471    2.447822   \n",
       "min           0.000000   86.600000  141.100000   60.300000   47.800000   \n",
       "25%           0.000000   94.500000  166.800000   64.100000   52.000000   \n",
       "50%           0.000000   97.000000  173.200000   65.500000   54.100000   \n",
       "75%           0.000000  102.400000  183.500000   66.600000   55.500000   \n",
       "max           1.000000  120.900000  208.100000   72.000000   59.800000   \n",
       "\n",
       "       curb-weight  engine-size        bore      stroke  compression-ratio  \\\n",
       "count   201.000000   201.000000  201.000000  201.000000         201.000000   \n",
       "mean   2555.666667   126.875622    3.330299    3.257562          10.164279   \n",
       "std     517.296727    41.546834    0.268088    0.316082           4.004965   \n",
       "min    1488.000000    61.000000    2.540000    2.070000           7.000000   \n",
       "25%    2169.000000    98.000000    3.150000    3.110000           8.600000   \n",
       "50%    2414.000000   120.000000    3.310000    3.290000           9.000000   \n",
       "75%    2926.000000   141.000000    3.580000    3.410000           9.400000   \n",
       "max    4066.000000   326.000000    3.940000    4.170000          23.000000   \n",
       "\n",
       "       horsepower     peak-rpm    city-mpg  highway-mpg         price  \n",
       "count  201.000000   201.000000  201.000000   201.000000    201.000000  \n",
       "mean   103.396985  5118.407960   25.179104    30.686567  13207.129353  \n",
       "std     37.365602   478.183493    6.423220     6.815150   7947.066342  \n",
       "min     48.000000  4150.000000   13.000000    16.000000   5118.000000  \n",
       "25%     70.000000  4800.000000   19.000000    25.000000   7775.000000  \n",
       "50%     95.000000  5200.000000   24.000000    30.000000  10295.000000  \n",
       "75%    116.000000  5500.000000   30.000000    34.000000  16500.000000  \n",
       "max    262.000000  6600.000000   49.000000    54.000000  45400.000000  "
      ]
     },
     "execution_count": 33,
     "metadata": {},
     "output_type": "execute_result"
    }
   ],
   "source": [
    "data.describe()"
   ]
  },
  {
   "cell_type": "markdown",
   "id": "9cfe077e",
   "metadata": {
    "papermill": {
     "duration": 0.077122,
     "end_time": "2021-08-17T08:30:30.348124",
     "exception": false,
     "start_time": "2021-08-17T08:30:30.271002",
     "status": "completed"
    },
    "tags": []
   },
   "source": [
    "### Visualization of Outliers"
   ]
  },
  {
   "cell_type": "code",
   "execution_count": 34,
   "id": "af7afffa",
   "metadata": {
    "execution": {
     "iopub.execute_input": "2021-08-17T08:30:30.563057Z",
     "iopub.status.busy": "2021-08-17T08:30:30.551057Z",
     "iopub.status.idle": "2021-08-17T08:30:30.692594Z",
     "shell.execute_reply": "2021-08-17T08:30:30.691810Z",
     "shell.execute_reply.started": "2021-08-17T08:26:46.127293Z"
    },
    "papermill": {
     "duration": 0.26328,
     "end_time": "2021-08-17T08:30:30.692799",
     "exception": false,
     "start_time": "2021-08-17T08:30:30.429519",
     "status": "completed"
    },
    "tags": []
   },
   "outputs": [
    {
     "data": {
      "image/png": "[encoded data removed]",
      "text/plain": [
       "<Figure size 432x288 with 1 Axes>"
      ]
     },
     "metadata": {
      "needs_background": "light"
     },
     "output_type": "display_data"
    },
    {
     "name": "stdout",
     "output_type": "stream",
     "text": [
      "Number of possible outliers in normalized-losses are 2\n"
     ]
    }
   ],
   "source": [
    "# normalized-losses has maximum higher than expected from 75 percentile as seen from above description\n",
    "plt.boxplot(data['normalized-losses'])\n",
    "plt.xlabel('Normalized-losses', weight='bold', size=12)\n",
    "plt.show()\n",
    "print(f'Number of possible outliers in normalized-losses are',len(data[numerical_cols][data['normalized-losses']>200]))"
   ]
  },
  {
   "cell_type": "code",
   "execution_count": 35,
   "id": "23f402f6",
   "metadata": {
    "execution": {
     "iopub.execute_input": "2021-08-17T08:30:30.892018Z",
     "iopub.status.busy": "2021-08-17T08:30:30.876867Z",
     "iopub.status.idle": "2021-08-17T08:30:31.017108Z",
     "shell.execute_reply": "2021-08-17T08:30:31.017761Z",
     "shell.execute_reply.started": "2021-08-17T08:26:46.268424Z"
    },
    "papermill": {
     "duration": 0.250841,
     "end_time": "2021-08-17T08:30:31.018014",
     "exception": false,
     "start_time": "2021-08-17T08:30:30.767173",
     "status": "completed"
    },
    "tags": []
   },
   "outputs": [
    {
     "data": {
      "image/png": "[encoded data removed]",
      "text/plain": [
       "<Figure size 432x288 with 1 Axes>"
      ]
     },
     "metadata": {
      "needs_background": "light"
     },
     "output_type": "display_data"
    },
    {
     "name": "stdout",
     "output_type": "stream",
     "text": [
      "Number of possible outliers in compression ratio are 20\n"
     ]
    }
   ],
   "source": [
    "# compression-ratio has maximum higher than expected from 75 percentile as seen from above description\n",
    "plt.boxplot(data['compression-ratio'])\n",
    "plt.xlabel('Compression Ratio', weight='bold', size=12)\n",
    "plt.show()\n",
    "print(f'Number of possible outliers in compression ratio are',len(data[numerical_cols][data['compression-ratio']>12]))"
   ]
  },
  {
   "cell_type": "code",
   "execution_count": 36,
   "id": "314e2caa",
   "metadata": {
    "execution": {
     "iopub.execute_input": "2021-08-17T08:30:31.198620Z",
     "iopub.status.busy": "2021-08-17T08:30:31.184865Z",
     "iopub.status.idle": "2021-08-17T08:30:31.452991Z",
     "shell.execute_reply": "2021-08-17T08:30:31.453653Z",
     "shell.execute_reply.started": "2021-08-17T08:26:46.401232Z"
    },
    "papermill": {
     "duration": 0.3565,
     "end_time": "2021-08-17T08:30:31.453949",
     "exception": false,
     "start_time": "2021-08-17T08:30:31.097449",
     "status": "completed"
    },
    "tags": []
   },
   "outputs": [
    {
     "data": {
      "image/png": "[encoded data removed]",
      "text/plain": [
       "<Figure size 432x288 with 1 Axes>"
      ]
     },
     "metadata": {
      "needs_background": "light"
     },
     "output_type": "display_data"
    }
   ],
   "source": [
    "plt.scatter(data=data, x='compression-ratio', y='stroke')\n",
    "plt.scatter(data=data, x='compression-ratio', y='bore')\n",
    "plt.xlabel('Compression Ratio', size=10)\n",
    "plt.title('Compression ratio vs stroke and bore', weight='bold', size=12)\n",
    "plt.legend(['stroke', 'bore'])\n",
    "plt.show()"
   ]
  },
  {
   "cell_type": "markdown",
   "id": "bc71620a",
   "metadata": {
    "papermill": {
     "duration": 0.075885,
     "end_time": "2021-08-17T08:30:31.610777",
     "exception": false,
     "start_time": "2021-08-17T08:30:31.534892",
     "status": "completed"
    },
    "tags": []
   },
   "source": [
    "Since the number of compression-ratio points is high and it also fits well with stroke and bore hence it can not be an outlier"
   ]
  },
  {
   "cell_type": "code",
   "execution_count": 37,
   "id": "2965f835",
   "metadata": {
    "execution": {
     "iopub.execute_input": "2021-08-17T08:30:31.830056Z",
     "iopub.status.busy": "2021-08-17T08:30:31.807700Z",
     "iopub.status.idle": "2021-08-17T08:30:31.917463Z",
     "shell.execute_reply": "2021-08-17T08:30:31.916757Z",
     "shell.execute_reply.started": "2021-08-17T08:26:46.619628Z"
    },
    "papermill": {
     "duration": 0.226442,
     "end_time": "2021-08-17T08:30:31.917663",
     "exception": false,
     "start_time": "2021-08-17T08:30:31.691221",
     "status": "completed"
    },
    "tags": []
   },
   "outputs": [
    {
     "data": {
      "image/png": "[encoded data removed]",
      "text/plain": [
       "<Figure size 432x288 with 1 Axes>"
      ]
     },
     "metadata": {
      "needs_background": "light"
     },
     "output_type": "display_data"
    }
   ],
   "source": [
    "# Horsepower has max higher than expected from the 75 percentile as seen above\n",
    "plt.boxplot(data['horsepower'])\n",
    "plt.xlabel('Horsepower', weight='bold', size=12)\n",
    "plt.show()"
   ]
  },
  {
   "cell_type": "code",
   "execution_count": 38,
   "id": "5db06830",
   "metadata": {
    "execution": {
     "iopub.execute_input": "2021-08-17T08:30:32.082882Z",
     "iopub.status.busy": "2021-08-17T08:30:32.081921Z",
     "iopub.status.idle": "2021-08-17T08:30:32.291080Z",
     "shell.execute_reply": "2021-08-17T08:30:32.290139Z",
     "shell.execute_reply.started": "2021-08-17T08:26:46.734553Z"
    },
    "papermill": {
     "duration": 0.294796,
     "end_time": "2021-08-17T08:30:32.291282",
     "exception": false,
     "start_time": "2021-08-17T08:30:31.996486",
     "status": "completed"
    },
    "tags": []
   },
   "outputs": [
    {
     "data": {
      "image/png": "[encoded data removed]",
      "text/plain": [
       "<Figure size 432x288 with 1 Axes>"
      ]
     },
     "metadata": {
      "needs_background": "light"
     },
     "output_type": "display_data"
    }
   ],
   "source": [
    "# Checking further with engine size as they both are related\n",
    "sns.scatterplot(data=data, x='horsepower', y='engine-size')\n",
    "plt.title('Horsepower vs Engine', weight='bold', size=12)\n",
    "plt.show()"
   ]
  },
  {
   "cell_type": "code",
   "execution_count": 39,
   "id": "8ec9de53",
   "metadata": {
    "execution": {
     "iopub.execute_input": "2021-08-17T08:30:32.488836Z",
     "iopub.status.busy": "2021-08-17T08:30:32.468847Z",
     "iopub.status.idle": "2021-08-17T08:30:32.691951Z",
     "shell.execute_reply": "2021-08-17T08:30:32.692831Z",
     "shell.execute_reply.started": "2021-08-17T08:26:46.896711Z"
    },
    "papermill": {
     "duration": 0.324013,
     "end_time": "2021-08-17T08:30:32.693134",
     "exception": false,
     "start_time": "2021-08-17T08:30:32.369121",
     "status": "completed"
    },
    "tags": []
   },
   "outputs": [
    {
     "data": {
      "image/png": "[encoded data removed]",
      "text/plain": [
       "<Figure size 432x288 with 1 Axes>"
      ]
     },
     "metadata": {
      "needs_background": "light"
     },
     "output_type": "display_data"
    }
   ],
   "source": [
    "# Plotting Engine-size vs Price for further Analysis\n",
    "sns.scatterplot(data=data, x='engine-size', y='price')\n",
    "plt.title('Engine-size vs Price', weight = 'bold', size=12)\n",
    "plt.show()"
   ]
  },
  {
   "cell_type": "markdown",
   "id": "d2555124",
   "metadata": {
    "papermill": {
     "duration": 0.079758,
     "end_time": "2021-08-17T08:30:32.856695",
     "exception": false,
     "start_time": "2021-08-17T08:30:32.776937",
     "status": "completed"
    },
    "tags": []
   },
   "source": [
    "Since horsepower and engine are connected and engine size shows no outliers, we can say that there is no outliers in horespower too"
   ]
  },
  {
   "cell_type": "code",
   "execution_count": 40,
   "id": "71f30412",
   "metadata": {
    "execution": {
     "iopub.execute_input": "2021-08-17T08:30:33.032081Z",
     "iopub.status.busy": "2021-08-17T08:30:33.031194Z",
     "iopub.status.idle": "2021-08-17T08:30:33.174636Z",
     "shell.execute_reply": "2021-08-17T08:30:33.173704Z",
     "shell.execute_reply.started": "2021-08-17T08:26:47.085738Z"
    },
    "papermill": {
     "duration": 0.231547,
     "end_time": "2021-08-17T08:30:33.174814",
     "exception": false,
     "start_time": "2021-08-17T08:30:32.943267",
     "status": "completed"
    },
    "tags": []
   },
   "outputs": [
    {
     "data": {
      "image/png": "[encoded data removed]",
      "text/plain": [
       "<Figure size 432x288 with 1 Axes>"
      ]
     },
     "metadata": {
      "needs_background": "light"
     },
     "output_type": "display_data"
    },
    {
     "name": "stdout",
     "output_type": "stream",
     "text": [
      "Total number of possible outliers in peak-rpm are: 2\n"
     ]
    }
   ],
   "source": [
    "# peak-rpm has max higher than expected from the 75 percentile as seen above\n",
    "plt.boxplot(data['peak-rpm'])\n",
    "plt.xlabel('Peak-rpm', weight='bold', size=12)\n",
    "plt.show()\n",
    "print(f'Total number of possible outliers in peak-rpm are:',len(data['peak-rpm'][data['peak-rpm']>6000]))"
   ]
  },
  {
   "cell_type": "markdown",
   "id": "f897c9b6",
   "metadata": {
    "papermill": {
     "duration": 0.083637,
     "end_time": "2021-08-17T08:30:33.342198",
     "exception": false,
     "start_time": "2021-08-17T08:30:33.258561",
     "status": "completed"
    },
    "tags": []
   },
   "source": [
    "### We can conclude that there are outliers in 2 columns: Normalized-losses and peak-rpm"
   ]
  },
  {
   "cell_type": "code",
   "execution_count": 41,
   "id": "9e98d6e2",
   "metadata": {
    "execution": {
     "iopub.execute_input": "2021-08-17T08:30:33.539503Z",
     "iopub.status.busy": "2021-08-17T08:30:33.535533Z",
     "iopub.status.idle": "2021-08-17T08:30:33.547446Z",
     "shell.execute_reply": "2021-08-17T08:30:33.546801Z",
     "shell.execute_reply.started": "2021-08-17T08:26:47.208579Z"
    },
    "papermill": {
     "duration": 0.120523,
     "end_time": "2021-08-17T08:30:33.547605",
     "exception": false,
     "start_time": "2021-08-17T08:30:33.427082",
     "status": "completed"
    },
    "tags": []
   },
   "outputs": [
    {
     "name": "stdout",
     "output_type": "stream",
     "text": [
      "99th percentile of Normalized-losses is 197.0\n"
     ]
    },
    {
     "data": {
      "text/html": [
       "<div>\n",
       "<style scoped>\n",
       "    .dataframe tbody tr th:only-of-type {\n",
       "        vertical-align: middle;\n",
       "    }\n",
       "\n",
       "    .dataframe tbody tr th {\n",
       "        vertical-align: top;\n",
       "    }\n",
       "\n",
       "    .dataframe thead th {\n",
       "        text-align: right;\n",
       "    }\n",
       "</style>\n",
       "<table border=\"1\" class=\"dataframe\">\n",
       "  <thead>\n",
       "    <tr style=\"text-align: right;\">\n",
       "      <th></th>\n",
       "      <th>symboling</th>\n",
       "      <th>normalized-losses</th>\n",
       "      <th>wheel-base</th>\n",
       "      <th>length</th>\n",
       "      <th>width</th>\n",
       "      <th>height</th>\n",
       "      <th>curb-weight</th>\n",
       "      <th>engine-size</th>\n",
       "      <th>bore</th>\n",
       "      <th>stroke</th>\n",
       "      <th>compression-ratio</th>\n",
       "      <th>horsepower</th>\n",
       "      <th>peak-rpm</th>\n",
       "      <th>city-mpg</th>\n",
       "      <th>highway-mpg</th>\n",
       "      <th>price</th>\n",
       "    </tr>\n",
       "  </thead>\n",
       "  <tbody>\n",
       "    <tr>\n",
       "      <th>106</th>\n",
       "      <td>1</td>\n",
       "      <td>231.0</td>\n",
       "      <td>99.2</td>\n",
       "      <td>178.5</td>\n",
       "      <td>67.9</td>\n",
       "      <td>49.7</td>\n",
       "      <td>3139</td>\n",
       "      <td>181</td>\n",
       "      <td>3.43</td>\n",
       "      <td>3.27</td>\n",
       "      <td>9.0</td>\n",
       "      <td>160.0</td>\n",
       "      <td>5200.0</td>\n",
       "      <td>19</td>\n",
       "      <td>25</td>\n",
       "      <td>18399</td>\n",
       "    </tr>\n",
       "    <tr>\n",
       "      <th>190</th>\n",
       "      <td>3</td>\n",
       "      <td>256.0</td>\n",
       "      <td>94.5</td>\n",
       "      <td>165.7</td>\n",
       "      <td>64.0</td>\n",
       "      <td>51.4</td>\n",
       "      <td>2221</td>\n",
       "      <td>109</td>\n",
       "      <td>3.19</td>\n",
       "      <td>3.40</td>\n",
       "      <td>8.5</td>\n",
       "      <td>90.0</td>\n",
       "      <td>5500.0</td>\n",
       "      <td>24</td>\n",
       "      <td>29</td>\n",
       "      <td>9980</td>\n",
       "    </tr>\n",
       "  </tbody>\n",
       "</table>\n",
       "</div>"
      ],
      "text/plain": [
       "     symboling  normalized-losses  wheel-base  length  width  height  \\\n",
       "106          1              231.0        99.2   178.5   67.9    49.7   \n",
       "190          3              256.0        94.5   165.7   64.0    51.4   \n",
       "\n",
       "     curb-weight  engine-size  bore  stroke  compression-ratio  horsepower  \\\n",
       "106         3139          181  3.43    3.27                9.0       160.0   \n",
       "190         2221          109  3.19    3.40                8.5        90.0   \n",
       "\n",
       "     peak-rpm  city-mpg  highway-mpg  price  \n",
       "106    5200.0        19           25  18399  \n",
       "190    5500.0        24           29   9980  "
      ]
     },
     "execution_count": 41,
     "metadata": {},
     "output_type": "execute_result"
    }
   ],
   "source": [
    "# Replacing Outliers with 99 percentile\n",
    "\n",
    "# Finding 99 percentile in normalized losses to replace the outliers\n",
    "replaced_val = np.percentile(data['normalized-losses'], 99)\n",
    "print('99th percentile of Normalized-losses is',replaced_val)\n",
    "data[numerical_cols][data['normalized-losses']>replaced_val]"
   ]
  },
  {
   "cell_type": "code",
   "execution_count": 42,
   "id": "4a83dcde",
   "metadata": {
    "execution": {
     "iopub.execute_input": "2021-08-17T08:30:33.730020Z",
     "iopub.status.busy": "2021-08-17T08:30:33.728640Z",
     "iopub.status.idle": "2021-08-17T08:30:33.733215Z",
     "shell.execute_reply": "2021-08-17T08:30:33.732287Z",
     "shell.execute_reply.started": "2021-08-17T08:26:47.233843Z"
    },
    "papermill": {
     "duration": 0.09993,
     "end_time": "2021-08-17T08:30:33.733408",
     "exception": false,
     "start_time": "2021-08-17T08:30:33.633478",
     "status": "completed"
    },
    "tags": []
   },
   "outputs": [],
   "source": [
    "# There are 2 values in normalized-losses which can be replaced\n",
    "data['normalized-losses'] = data['normalized-losses'].replace(231, replaced_val)\n",
    "data['normalized-losses'] = data['normalized-losses'].replace(256, replaced_val)"
   ]
  },
  {
   "cell_type": "code",
   "execution_count": 43,
   "id": "8ecfa48f",
   "metadata": {
    "execution": {
     "iopub.execute_input": "2021-08-17T08:30:33.931360Z",
     "iopub.status.busy": "2021-08-17T08:30:33.922464Z",
     "iopub.status.idle": "2021-08-17T08:30:33.942985Z",
     "shell.execute_reply": "2021-08-17T08:30:33.941882Z",
     "shell.execute_reply.started": "2021-08-17T08:26:47.246994Z"
    },
    "papermill": {
     "duration": 0.128707,
     "end_time": "2021-08-17T08:30:33.943229",
     "exception": false,
     "start_time": "2021-08-17T08:30:33.814522",
     "status": "completed"
    },
    "tags": []
   },
   "outputs": [
    {
     "name": "stdout",
     "output_type": "stream",
     "text": [
      "99th percentile of peak-rpm is 6000.0\n"
     ]
    },
    {
     "data": {
      "text/html": [
       "<div>\n",
       "<style scoped>\n",
       "    .dataframe tbody tr th:only-of-type {\n",
       "        vertical-align: middle;\n",
       "    }\n",
       "\n",
       "    .dataframe tbody tr th {\n",
       "        vertical-align: top;\n",
       "    }\n",
       "\n",
       "    .dataframe thead th {\n",
       "        text-align: right;\n",
       "    }\n",
       "</style>\n",
       "<table border=\"1\" class=\"dataframe\">\n",
       "  <thead>\n",
       "    <tr style=\"text-align: right;\">\n",
       "      <th></th>\n",
       "      <th>symboling</th>\n",
       "      <th>normalized-losses</th>\n",
       "      <th>wheel-base</th>\n",
       "      <th>length</th>\n",
       "      <th>width</th>\n",
       "      <th>height</th>\n",
       "      <th>curb-weight</th>\n",
       "      <th>engine-size</th>\n",
       "      <th>bore</th>\n",
       "      <th>stroke</th>\n",
       "      <th>compression-ratio</th>\n",
       "      <th>horsepower</th>\n",
       "      <th>peak-rpm</th>\n",
       "      <th>city-mpg</th>\n",
       "      <th>highway-mpg</th>\n",
       "      <th>price</th>\n",
       "    </tr>\n",
       "  </thead>\n",
       "  <tbody>\n",
       "    <tr>\n",
       "      <th>165</th>\n",
       "      <td>1</td>\n",
       "      <td>168.0</td>\n",
       "      <td>94.5</td>\n",
       "      <td>168.7</td>\n",
       "      <td>64.0</td>\n",
       "      <td>52.6</td>\n",
       "      <td>2265</td>\n",
       "      <td>98</td>\n",
       "      <td>3.24</td>\n",
       "      <td>3.08</td>\n",
       "      <td>9.4</td>\n",
       "      <td>112.0</td>\n",
       "      <td>6600.0</td>\n",
       "      <td>26</td>\n",
       "      <td>29</td>\n",
       "      <td>9298</td>\n",
       "    </tr>\n",
       "    <tr>\n",
       "      <th>166</th>\n",
       "      <td>1</td>\n",
       "      <td>168.0</td>\n",
       "      <td>94.5</td>\n",
       "      <td>168.7</td>\n",
       "      <td>64.0</td>\n",
       "      <td>52.6</td>\n",
       "      <td>2300</td>\n",
       "      <td>98</td>\n",
       "      <td>3.24</td>\n",
       "      <td>3.08</td>\n",
       "      <td>9.4</td>\n",
       "      <td>112.0</td>\n",
       "      <td>6600.0</td>\n",
       "      <td>26</td>\n",
       "      <td>29</td>\n",
       "      <td>9538</td>\n",
       "    </tr>\n",
       "  </tbody>\n",
       "</table>\n",
       "</div>"
      ],
      "text/plain": [
       "     symboling  normalized-losses  wheel-base  length  width  height  \\\n",
       "165          1              168.0        94.5   168.7   64.0    52.6   \n",
       "166          1              168.0        94.5   168.7   64.0    52.6   \n",
       "\n",
       "     curb-weight  engine-size  bore  stroke  compression-ratio  horsepower  \\\n",
       "165         2265           98  3.24    3.08                9.4       112.0   \n",
       "166         2300           98  3.24    3.08                9.4       112.0   \n",
       "\n",
       "     peak-rpm  city-mpg  highway-mpg  price  \n",
       "165    6600.0        26           29   9298  \n",
       "166    6600.0        26           29   9538  "
      ]
     },
     "execution_count": 43,
     "metadata": {},
     "output_type": "execute_result"
    }
   ],
   "source": [
    "# Finding 99 percentile in peak-rpm to replace the outliers\n",
    "val = np.percentile(data['peak-rpm'], 99)\n",
    "print('99th percentile of peak-rpm is',val)\n",
    "data[numerical_cols][data['peak-rpm']>val] "
   ]
  },
  {
   "cell_type": "code",
   "execution_count": 44,
   "id": "80065a80",
   "metadata": {
    "execution": {
     "iopub.execute_input": "2021-08-17T08:30:34.127896Z",
     "iopub.status.busy": "2021-08-17T08:30:34.127188Z",
     "iopub.status.idle": "2021-08-17T08:30:34.131509Z",
     "shell.execute_reply": "2021-08-17T08:30:34.132093Z",
     "shell.execute_reply.started": "2021-08-17T08:26:47.283426Z"
    },
    "papermill": {
     "duration": 0.104102,
     "end_time": "2021-08-17T08:30:34.132349",
     "exception": false,
     "start_time": "2021-08-17T08:30:34.028247",
     "status": "completed"
    },
    "tags": []
   },
   "outputs": [],
   "source": [
    "# Both the entries looks repeated so we will drop both rows as both are outliers and number of outliers will remain 1\n",
    "\n",
    "data.drop(data[data['peak-rpm']==6600].index, axis=0, inplace=True)"
   ]
  },
  {
   "cell_type": "markdown",
   "id": "a7b461f9",
   "metadata": {
    "papermill": {
     "duration": 0.079745,
     "end_time": "2021-08-17T08:30:34.293733",
     "exception": false,
     "start_time": "2021-08-17T08:30:34.213988",
     "status": "completed"
    },
    "tags": []
   },
   "source": [
    "# Imputation"
   ]
  },
  {
   "cell_type": "code",
   "execution_count": 45,
   "id": "bf4fd523",
   "metadata": {
    "execution": {
     "iopub.execute_input": "2021-08-17T08:30:34.469645Z",
     "iopub.status.busy": "2021-08-17T08:30:34.468436Z",
     "iopub.status.idle": "2021-08-17T08:30:34.474677Z",
     "shell.execute_reply": "2021-08-17T08:30:34.473818Z",
     "shell.execute_reply.started": "2021-08-17T08:26:47.294286Z"
    },
    "papermill": {
     "duration": 0.093085,
     "end_time": "2021-08-17T08:30:34.474870",
     "exception": false,
     "start_time": "2021-08-17T08:30:34.381785",
     "status": "completed"
    },
    "tags": []
   },
   "outputs": [
    {
     "data": {
      "text/plain": [
       "Index(['make', 'body-style', 'drive-wheels', 'engine-type', 'num-of-cylinders',\n",
       "       'fuel-system'],\n",
       "      dtype='object')"
      ]
     },
     "execution_count": 45,
     "metadata": {},
     "output_type": "execute_result"
    }
   ],
   "source": [
    "categorical_cols = data.select_dtypes(['object']).columns\n",
    "categorical_cols"
   ]
  },
  {
   "cell_type": "code",
   "execution_count": 46,
   "id": "4067ef63",
   "metadata": {
    "execution": {
     "iopub.execute_input": "2021-08-17T08:30:34.668016Z",
     "iopub.status.busy": "2021-08-17T08:30:34.666273Z",
     "iopub.status.idle": "2021-08-17T08:30:34.673038Z",
     "shell.execute_reply": "2021-08-17T08:30:34.672156Z",
     "shell.execute_reply.started": "2021-08-17T08:26:47.312443Z"
    },
    "papermill": {
     "duration": 0.110709,
     "end_time": "2021-08-17T08:30:34.673238",
     "exception": false,
     "start_time": "2021-08-17T08:30:34.562529",
     "status": "completed"
    },
    "tags": []
   },
   "outputs": [
    {
     "data": {
      "text/plain": [
       "Index(['normalized-losses', 'fuel-type', 'aspiration', 'num-of-doors',\n",
       "       'engine-location', 'wheel-base', 'length', 'width', 'height',\n",
       "       'curb-weight', 'engine-size', 'bore', 'stroke', 'compression-ratio',\n",
       "       'horsepower', 'peak-rpm', 'city-mpg', 'highway-mpg', 'price',\n",
       "       'symboling_-2', 'symboling_-1', 'symboling_0', 'symboling_1',\n",
       "       'symboling_2', 'symboling_3', 'make_alfa-romero', 'make_audi',\n",
       "       'make_bmw', 'make_chevrolet', 'make_dodge', 'make_honda', 'make_isuzu',\n",
       "       'make_jaguar', 'make_mazda', 'make_mercedes-benz', 'make_mercury',\n",
       "       'make_mitsubishi', 'make_nissan', 'make_peugot', 'make_plymouth',\n",
       "       'make_porsche', 'make_renault', 'make_saab', 'make_subaru',\n",
       "       'make_toyota', 'make_volkswagen', 'make_volvo',\n",
       "       'body-style_convertible', 'body-style_hardtop', 'body-style_hatchback',\n",
       "       'body-style_sedan', 'body-style_wagon', 'drive-wheels_4wd',\n",
       "       'drive-wheels_fwd', 'drive-wheels_rwd', 'num-of-cylinders_eight',\n",
       "       'num-of-cylinders_five', 'num-of-cylinders_four',\n",
       "       'num-of-cylinders_six', 'num-of-cylinders_three',\n",
       "       'num-of-cylinders_twelve', 'num-of-cylinders_two', 'fuel-system_1bbl',\n",
       "       'fuel-system_2bbl', 'fuel-system_4bbl', 'fuel-system_idi',\n",
       "       'fuel-system_mfi', 'fuel-system_mpfi', 'fuel-system_spdi',\n",
       "       'fuel-system_spfi', 'engine-type_dohc', 'engine-type_l',\n",
       "       'engine-type_ohc', 'engine-type_ohcf', 'engine-type_ohcv',\n",
       "       'engine-type_rotor'],\n",
       "      dtype='object')"
      ]
     },
     "execution_count": 46,
     "metadata": {},
     "output_type": "execute_result"
    }
   ],
   "source": [
    "# Creating new feature columns for each categorical data\n",
    "data = pd.get_dummies(data , columns=['symboling','make', 'body-style', 'drive-wheels', 'num-of-cylinders', 'fuel-system', 'engine-type'], prefix=['symboling','make', 'body-style', 'drive-wheels', 'num-of-cylinders', 'fuel-system', 'engine-type'])\n",
    "data.columns"
   ]
  },
  {
   "cell_type": "markdown",
   "id": "b391d048",
   "metadata": {
    "papermill": {
     "duration": 0.078492,
     "end_time": "2021-08-17T08:30:34.841627",
     "exception": false,
     "start_time": "2021-08-17T08:30:34.763135",
     "status": "completed"
    },
    "tags": []
   },
   "source": [
    "# Training our ML model"
   ]
  },
  {
   "cell_type": "code",
   "execution_count": 47,
   "id": "ed80eec5",
   "metadata": {
    "execution": {
     "iopub.execute_input": "2021-08-17T08:30:35.024144Z",
     "iopub.status.busy": "2021-08-17T08:30:35.022642Z",
     "iopub.status.idle": "2021-08-17T08:30:35.027863Z",
     "shell.execute_reply": "2021-08-17T08:30:35.027128Z",
     "shell.execute_reply.started": "2021-08-17T08:27:18.390067Z"
    },
    "papermill": {
     "duration": 0.100886,
     "end_time": "2021-08-17T08:30:35.028038",
     "exception": false,
     "start_time": "2021-08-17T08:30:34.927152",
     "status": "completed"
    },
    "tags": []
   },
   "outputs": [],
   "source": [
    "# We will drop the following columns as it has very low corrrelation to our target variable\n",
    "data.drop(['compression-ratio', 'stroke'],axis=1, inplace=True)"
   ]
  },
  {
   "cell_type": "code",
   "execution_count": 48,
   "id": "accb4dd3",
   "metadata": {
    "execution": {
     "iopub.execute_input": "2021-08-17T08:30:35.210527Z",
     "iopub.status.busy": "2021-08-17T08:30:35.209597Z",
     "iopub.status.idle": "2021-08-17T08:30:35.214164Z",
     "shell.execute_reply": "2021-08-17T08:30:35.215120Z",
     "shell.execute_reply.started": "2021-08-17T08:27:26.353818Z"
    },
    "papermill": {
     "duration": 0.097822,
     "end_time": "2021-08-17T08:30:35.215394",
     "exception": false,
     "start_time": "2021-08-17T08:30:35.117572",
     "status": "completed"
    },
    "tags": []
   },
   "outputs": [
    {
     "name": "stdout",
     "output_type": "stream",
     "text": [
      "(199, 73) (199,)\n"
     ]
    }
   ],
   "source": [
    "# Creating Features data and Target data\n",
    "X = data.drop(['price'], axis=1)\n",
    "y = data['price']\n",
    "print(X.shape, y.shape)"
   ]
  },
  {
   "cell_type": "markdown",
   "id": "9a5ae649",
   "metadata": {
    "papermill": {
     "duration": 0.083378,
     "end_time": "2021-08-17T08:30:35.382336",
     "exception": false,
     "start_time": "2021-08-17T08:30:35.298958",
     "status": "completed"
    },
    "tags": []
   },
   "source": [
    "## Splitting the data"
   ]
  },
  {
   "cell_type": "code",
   "execution_count": 49,
   "id": "a9224fa7",
   "metadata": {
    "execution": {
     "iopub.execute_input": "2021-08-17T08:30:35.561851Z",
     "iopub.status.busy": "2021-08-17T08:30:35.560655Z",
     "iopub.status.idle": "2021-08-17T08:30:35.570856Z",
     "shell.execute_reply": "2021-08-17T08:30:35.571523Z",
     "shell.execute_reply.started": "2021-08-17T08:27:58.511588Z"
    },
    "papermill": {
     "duration": 0.101935,
     "end_time": "2021-08-17T08:30:35.571757",
     "exception": false,
     "start_time": "2021-08-17T08:30:35.469822",
     "status": "completed"
    },
    "tags": []
   },
   "outputs": [
    {
     "name": "stdout",
     "output_type": "stream",
     "text": [
      "Training data size is (175, 73) (175,)\n",
      "Testing data size is (24, 73) (24,)\n"
     ]
    }
   ],
   "source": [
    "X_train, X_test, y_train, y_test = train_test_split(X, y, test_size = 0.12, random_state= 0)\n",
    "print(f'Training data size is',X_train.shape, y_train.shape)\n",
    "print(f'Testing data size is',X_test.shape, y_test.shape)"
   ]
  },
  {
   "cell_type": "code",
   "execution_count": 50,
   "id": "0eb18032",
   "metadata": {
    "execution": {
     "iopub.execute_input": "2021-08-17T08:30:35.755303Z",
     "iopub.status.busy": "2021-08-17T08:30:35.754459Z",
     "iopub.status.idle": "2021-08-17T08:30:36.356565Z",
     "shell.execute_reply": "2021-08-17T08:30:36.357159Z",
     "shell.execute_reply.started": "2021-08-17T08:28:34.633720Z"
    },
    "papermill": {
     "duration": 0.703156,
     "end_time": "2021-08-17T08:30:36.357394",
     "exception": false,
     "start_time": "2021-08-17T08:30:35.654238",
     "status": "completed"
    },
    "tags": []
   },
   "outputs": [
    {
     "data": {
      "image/png": "[encoded data removed]",
      "text/plain": [
       "<Figure size 432x288 with 1 Axes>"
      ]
     },
     "metadata": {
      "needs_background": "light"
     },
     "output_type": "display_data"
    },
    {
     "name": "stdout",
     "output_type": "stream",
     "text": [
      "r2 score using Linear Regression model is : 0.9459476450453451\n"
     ]
    }
   ],
   "source": [
    "lr = LinearRegression()\n",
    "lr.fit(X_train, y_train)\n",
    "\n",
    "pred = lr.predict(X_test)\n",
    "\n",
    "sns.regplot(x = y_test, y=pred)\n",
    "plt.show()\n",
    "\n",
    "print('r2 score using Linear Regression model is :',r2_score(y_test, pred))\n"
   ]
  },
  {
   "cell_type": "code",
   "execution_count": 51,
   "id": "1881d62d",
   "metadata": {
    "execution": {
     "iopub.execute_input": "2021-08-17T08:30:36.544365Z",
     "iopub.status.busy": "2021-08-17T08:30:36.543209Z",
     "iopub.status.idle": "2021-08-17T08:30:36.939616Z",
     "shell.execute_reply": "2021-08-17T08:30:36.938156Z",
     "shell.execute_reply.started": "2021-08-17T08:28:44.228913Z"
    },
    "papermill": {
     "duration": 0.496393,
     "end_time": "2021-08-17T08:30:36.939854",
     "exception": false,
     "start_time": "2021-08-17T08:30:36.443461",
     "status": "completed"
    },
    "tags": []
   },
   "outputs": [],
   "source": [
    "from sklearn.ensemble import RandomForestRegressor"
   ]
  },
  {
   "cell_type": "code",
   "execution_count": 52,
   "id": "ac647195",
   "metadata": {
    "execution": {
     "iopub.execute_input": "2021-08-17T08:30:37.148953Z",
     "iopub.status.busy": "2021-08-17T08:30:37.147621Z",
     "iopub.status.idle": "2021-08-17T08:30:37.884595Z",
     "shell.execute_reply": "2021-08-17T08:30:37.885308Z",
     "shell.execute_reply.started": "2021-08-17T08:28:58.828067Z"
    },
    "papermill": {
     "duration": 0.851154,
     "end_time": "2021-08-17T08:30:37.885561",
     "exception": false,
     "start_time": "2021-08-17T08:30:37.034407",
     "status": "completed"
    },
    "tags": []
   },
   "outputs": [
    {
     "data": {
      "image/png": "[encoded data removed]",
      "text/plain": [
       "<Figure size 432x288 with 1 Axes>"
      ]
     },
     "metadata": {
      "needs_background": "light"
     },
     "output_type": "display_data"
    },
    {
     "name": "stdout",
     "output_type": "stream",
     "text": [
      "r2 score using RandomForrestRegressor is: 0.9599357659807133\n"
     ]
    }
   ],
   "source": [
    "rfg = RandomForestRegressor()\n",
    "\n",
    "rfg.fit(X_train, y_train)\n",
    "\n",
    "y_pred = rfg.predict(X_test)\n",
    "\n",
    "sns.regplot(x=y_test, y=y_pred)\n",
    "plt.show()\n",
    "\n",
    "print('r2 score using RandomForrestRegressor is:', r2_score(y_test, y_pred))"
   ]
  },
  {
   "cell_type": "markdown",
   "id": "93d3f03d",
   "metadata": {
    "papermill": {
     "duration": 0.095922,
     "end_time": "2021-08-17T08:30:38.113482",
     "exception": false,
     "start_time": "2021-08-17T08:30:38.017560",
     "status": "completed"
    },
    "tags": []
   },
   "source": [
    "# We can Conclude that RandomForrestRegressor gives the best r2 score of 0.95 followed by Linear Regression with r2 score of 0.94"
   ]
  }
 ],
 "metadata": {
  "kernelspec": {
   "display_name": "Python 3",
   "language": "python",
   "name": "python3"
  },
  "language_info": {
   "codemirror_mode": {
    "name": "ipython",
    "version": 3
   },
   "file_extension": ".py",
   "mimetype": "text/x-python",
   "name": "python",
   "nbconvert_exporter": "python",
   "pygments_lexer": "ipython3",
   "version": "3.7.10"
  },
  "papermill": {
   "default_parameters": {},
   "duration": 32.248514,
   "end_time": "2021-08-17T08:30:40.131874",
   "environment_variables": {},
   "exception": null,
   "input_path": "__notebook__.ipynb",
   "output_path": "__notebook__.ipynb",
   "parameters": {},
   "start_time": "2021-08-17T08:30:07.883360",
   "version": "2.3.3"
  }
 },
 "nbformat": 4,
 "nbformat_minor": 5
}
